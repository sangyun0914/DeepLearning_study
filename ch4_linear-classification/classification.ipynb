{
 "cells": [
  {
   "attachments": {},
   "cell_type": "markdown",
   "id": "6a507e25",
   "metadata": {
    "origin_pos": 1
   },
   "source": [
    "# The Base Classification Model\n",
    ":label:`sec_classification`\n",
    "\n",
    "## Section Summary\n",
    "This section discusses a base class for classification models and an accuracy function used to compute the accuracy of the model. The Classifier class has a validation_step function to report the loss and classification accuracy on a validation batch. The code defines a stochastic gradient descent optimizer and uses argmax to obtain the predicted class with the highest predicted probability. The accuracy is the fraction of all predictions that are correct. The text also provides exercises to test the understanding of the material.\n",
    "\n",
    "\n",
    "\n",
    "\n"
   ]
  },
  {
   "cell_type": "code",
   "execution_count": 1,
   "id": "1b29a77a",
   "metadata": {
    "execution": {
     "iopub.execute_input": "2023-02-10T04:38:37.270971Z",
     "iopub.status.busy": "2023-02-10T04:38:37.270138Z",
     "iopub.status.idle": "2023-02-10T04:38:40.257060Z",
     "shell.execute_reply": "2023-02-10T04:38:40.255134Z"
    },
    "origin_pos": 3,
    "tab": [
     "pytorch"
    ]
   },
   "outputs": [],
   "source": [
    "import torch\n",
    "from d2l import torch as d2l"
   ]
  },
  {
   "attachments": {},
   "cell_type": "markdown",
   "id": "20cec37e",
   "metadata": {
    "origin_pos": 6
   },
   "source": [
    "## The `Classifier` Class\n"
   ]
  },
  {
   "cell_type": "code",
   "execution_count": 2,
   "id": "92209c1c",
   "metadata": {
    "execution": {
     "iopub.execute_input": "2023-02-10T04:38:40.264742Z",
     "iopub.status.busy": "2023-02-10T04:38:40.262580Z",
     "iopub.status.idle": "2023-02-10T04:38:40.280642Z",
     "shell.execute_reply": "2023-02-10T04:38:40.279692Z"
    },
    "origin_pos": 9,
    "tab": [
     "pytorch"
    ]
   },
   "outputs": [],
   "source": [
    "class Classifier(d2l.Module):  #@save\n",
    "    \"\"\"The base class of classification models.\"\"\"\n",
    "    def validation_step(self, batch):\n",
    "        Y_hat = self(*batch[:-1])\n",
    "        self.plot('loss', self.loss(Y_hat, batch[-1]), train=False)\n",
    "        self.plot('acc', self.accuracy(Y_hat, batch[-1]), train=False)"
   ]
  },
  {
   "cell_type": "code",
   "execution_count": 3,
   "id": "64da2a09",
   "metadata": {
    "execution": {
     "iopub.execute_input": "2023-02-10T04:38:40.285195Z",
     "iopub.status.busy": "2023-02-10T04:38:40.284624Z",
     "iopub.status.idle": "2023-02-10T04:38:40.295605Z",
     "shell.execute_reply": "2023-02-10T04:38:40.292842Z"
    },
    "origin_pos": 13,
    "tab": [
     "pytorch"
    ]
   },
   "outputs": [],
   "source": [
    "@d2l.add_to_class(d2l.Module)  #@save\n",
    "def configure_optimizers(self):\n",
    "    return torch.optim.SGD(self.parameters(), lr=self.lr)"
   ]
  },
  {
   "attachments": {},
   "cell_type": "markdown",
   "id": "3c1db9f4",
   "metadata": {
    "origin_pos": 16
   },
   "source": [
    "## Accuracy\n"
   ]
  },
  {
   "cell_type": "code",
   "execution_count": 4,
   "id": "4ac1a562",
   "metadata": {
    "attributes": {
     "classes": [],
     "id": "",
     "n": "9"
    },
    "execution": {
     "iopub.execute_input": "2023-02-10T04:38:40.301120Z",
     "iopub.status.busy": "2023-02-10T04:38:40.299093Z",
     "iopub.status.idle": "2023-02-10T04:38:40.309579Z",
     "shell.execute_reply": "2023-02-10T04:38:40.306769Z"
    },
    "origin_pos": 17,
    "tab": [
     "pytorch"
    ]
   },
   "outputs": [],
   "source": [
    "@d2l.add_to_class(Classifier)  #@save\n",
    "def accuracy(self, Y_hat, Y, averaged=True):\n",
    "    \"\"\"Compute the number of correct predictions.\"\"\"\n",
    "    Y_hat = Y_hat.reshape((-1, Y_hat.shape[-1]))\n",
    "    preds = Y_hat.argmax(axis=1).type(Y.dtype)\n",
    "    compare = (preds == Y.reshape(-1)).type(torch.float32)\n",
    "    return compare.mean() if averaged else compare"
   ]
  }
 ],
 "metadata": {
  "kernelspec": {
   "display_name": "torch-gpu",
   "language": "python",
   "name": "python3"
  },
  "language_info": {
   "codemirror_mode": {
    "name": "ipython",
    "version": 3
   },
   "file_extension": ".py",
   "mimetype": "text/x-python",
   "name": "python",
   "nbconvert_exporter": "python",
   "pygments_lexer": "ipython3",
   "version": "3.8.16"
  }
 },
 "nbformat": 4,
 "nbformat_minor": 5
}
