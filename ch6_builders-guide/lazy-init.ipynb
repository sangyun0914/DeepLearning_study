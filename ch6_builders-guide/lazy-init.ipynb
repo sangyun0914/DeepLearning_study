{
 "cells": [
  {
   "attachments": {},
   "cell_type": "markdown",
   "id": "49e957ed",
   "metadata": {
    "origin_pos": 1
   },
   "source": [
    "# Lazy Initialization\n",
    ":label:`sec_lazy_init`\n",
    "\n",
    "## Section Summary\n",
    "\n",
    "This section discusses lazy initialization in deep learning models, which defers initialization until the first time data is passed through the model. This allows for easy modification of architectures and eliminates a common source of errors. The code demonstrates how to instantiate an MLP using lazy initialization and shows how the framework initializes parameters only after the input dimensionality is known.\n"
   ]
  },
  {
   "cell_type": "code",
   "execution_count": 1,
   "id": "6cc4a5c8",
   "metadata": {
    "execution": {
     "iopub.execute_input": "2023-02-10T05:20:01.476331Z",
     "iopub.status.busy": "2023-02-10T05:20:01.475903Z",
     "iopub.status.idle": "2023-02-10T05:20:05.574076Z",
     "shell.execute_reply": "2023-02-10T05:20:05.569829Z"
    },
    "origin_pos": 3,
    "tab": [
     "pytorch"
    ]
   },
   "outputs": [],
   "source": [
    "import torch\n",
    "from torch import nn\n",
    "from d2l import torch as d2l"
   ]
  },
  {
   "cell_type": "code",
   "execution_count": 2,
   "id": "b2f08cc9",
   "metadata": {
    "execution": {
     "iopub.execute_input": "2023-02-10T05:20:05.584101Z",
     "iopub.status.busy": "2023-02-10T05:20:05.581218Z",
     "iopub.status.idle": "2023-02-10T05:20:05.604853Z",
     "shell.execute_reply": "2023-02-10T05:20:05.602900Z"
    },
    "origin_pos": 8,
    "tab": [
     "pytorch"
    ]
   },
   "outputs": [
    {
     "name": "stderr",
     "output_type": "stream",
     "text": [
      "/Users/sangyun/miniconda3/envs/torch-gpu/lib/python3.8/site-packages/torch/nn/modules/lazy.py:180: UserWarning: Lazy modules are a new feature under heavy development so changes to the API or functionality can happen at any moment.\n",
      "  warnings.warn('Lazy modules are a new feature under heavy development '\n"
     ]
    }
   ],
   "source": [
    "net = nn.Sequential(nn.LazyLinear(256), nn.ReLU(), nn.LazyLinear(10))"
   ]
  },
  {
   "cell_type": "code",
   "execution_count": 3,
   "id": "0bb829a0",
   "metadata": {
    "execution": {
     "iopub.execute_input": "2023-02-10T05:20:05.609812Z",
     "iopub.status.busy": "2023-02-10T05:20:05.608975Z",
     "iopub.status.idle": "2023-02-10T05:20:05.619399Z",
     "shell.execute_reply": "2023-02-10T05:20:05.617432Z"
    },
    "origin_pos": 15,
    "tab": [
     "pytorch"
    ]
   },
   "outputs": [
    {
     "data": {
      "text/plain": [
       "<UninitializedParameter>"
      ]
     },
     "execution_count": 3,
     "metadata": {},
     "output_type": "execute_result"
    }
   ],
   "source": [
    "net[0].weight"
   ]
  },
  {
   "cell_type": "code",
   "execution_count": 4,
   "id": "43b3ea8b",
   "metadata": {
    "execution": {
     "iopub.execute_input": "2023-02-10T05:20:05.625079Z",
     "iopub.status.busy": "2023-02-10T05:20:05.624338Z",
     "iopub.status.idle": "2023-02-10T05:20:05.635226Z",
     "shell.execute_reply": "2023-02-10T05:20:05.634293Z"
    },
    "origin_pos": 23,
    "tab": [
     "pytorch"
    ]
   },
   "outputs": [
    {
     "data": {
      "text/plain": [
       "torch.Size([256, 20])"
      ]
     },
     "execution_count": 4,
     "metadata": {},
     "output_type": "execute_result"
    }
   ],
   "source": [
    "X = torch.rand(2, 20)\n",
    "net(X)\n",
    "\n",
    "net[0].weight.shape"
   ]
  },
  {
   "cell_type": "code",
   "execution_count": 5,
   "id": "b557b602",
   "metadata": {
    "execution": {
     "iopub.execute_input": "2023-02-10T05:20:05.641174Z",
     "iopub.status.busy": "2023-02-10T05:20:05.638269Z",
     "iopub.status.idle": "2023-02-10T05:20:05.649835Z",
     "shell.execute_reply": "2023-02-10T05:20:05.648972Z"
    },
    "origin_pos": 29,
    "tab": [
     "pytorch"
    ]
   },
   "outputs": [],
   "source": [
    "@d2l.add_to_class(d2l.Module)  #@save\n",
    "def apply_init(self, inputs, init=None):\n",
    "    self.forward(*inputs)\n",
    "    if init is not None:\n",
    "        self.net.apply(init)"
   ]
  }
 ],
 "metadata": {
  "kernelspec": {
   "display_name": "torch-gpu",
   "language": "python",
   "name": "python3"
  },
  "language_info": {
   "codemirror_mode": {
    "name": "ipython",
    "version": 3
   },
   "file_extension": ".py",
   "mimetype": "text/x-python",
   "name": "python",
   "nbconvert_exporter": "python",
   "pygments_lexer": "ipython3",
   "version": "3.8.16"
  }
 },
 "nbformat": 4,
 "nbformat_minor": 5
}
