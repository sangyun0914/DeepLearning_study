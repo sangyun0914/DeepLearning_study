{
 "cells": [
  {
   "attachments": {},
   "cell_type": "markdown",
   "id": "d9c0e8ed",
   "metadata": {
    "origin_pos": 1
   },
   "source": [
    "# GPUs\n",
    ":label:`sec_use_gpu`\n",
    "\n",
    "## Section Summary\n",
    "The section explains how to harness computational performance through GPUs for research. The NVIDIA driver and CUDA need to be downloaded to use a single NVIDIA GPU for calculations. In PyTorch, tensors are created in the main memory and then computed on the CPU by default. However, we can specify devices such as CPUs and GPUs for storage and calculation. \n",
    "\n",
    "\n",
    "\n"
   ]
  },
  {
   "cell_type": "code",
   "execution_count": 1,
   "id": "491be4c8",
   "metadata": {
    "execution": {
     "iopub.execute_input": "2023-02-10T06:11:12.623580Z",
     "iopub.status.busy": "2023-02-10T06:11:12.623177Z",
     "iopub.status.idle": "2023-02-10T06:11:13.977422Z",
     "shell.execute_reply": "2023-02-10T06:11:13.976372Z"
    },
    "origin_pos": 2,
    "tab": [
     "pytorch"
    ]
   },
   "outputs": [
    {
     "name": "stdout",
     "output_type": "stream",
     "text": [
      "zsh:1: command not found: nvidia-smi\n"
     ]
    }
   ],
   "source": [
    "!nvidia-smi"
   ]
  },
  {
   "cell_type": "code",
   "execution_count": 2,
   "id": "2a8556ec",
   "metadata": {
    "execution": {
     "iopub.execute_input": "2023-02-10T06:11:13.982539Z",
     "iopub.status.busy": "2023-02-10T06:11:13.981944Z",
     "iopub.status.idle": "2023-02-10T06:11:16.854479Z",
     "shell.execute_reply": "2023-02-10T06:11:16.852447Z"
    },
    "origin_pos": 7,
    "tab": [
     "pytorch"
    ]
   },
   "outputs": [],
   "source": [
    "import torch\n",
    "from torch import nn\n",
    "from d2l import torch as d2l"
   ]
  },
  {
   "attachments": {},
   "cell_type": "markdown",
   "id": "c0f0677b",
   "metadata": {
    "origin_pos": 10
   },
   "source": [
    "## [**Computing Devices**]\n",
    "\n"
   ]
  },
  {
   "cell_type": "code",
   "execution_count": 3,
   "id": "f7d361fa",
   "metadata": {
    "execution": {
     "iopub.execute_input": "2023-02-10T06:11:16.859148Z",
     "iopub.status.busy": "2023-02-10T06:11:16.858702Z",
     "iopub.status.idle": "2023-02-10T06:11:16.867817Z",
     "shell.execute_reply": "2023-02-10T06:11:16.867077Z"
    },
    "origin_pos": 13,
    "tab": [
     "pytorch"
    ]
   },
   "outputs": [
    {
     "data": {
      "text/plain": [
       "(device(type='cpu'),\n",
       " device(type='cuda', index=0),\n",
       " device(type='cuda', index=1))"
      ]
     },
     "execution_count": 3,
     "metadata": {},
     "output_type": "execute_result"
    }
   ],
   "source": [
    "def cpu():  #@save\n",
    "    \"\"\"Get the CPU device.\"\"\"\n",
    "    return torch.device('cpu')\n",
    "\n",
    "def gpu(i=0):  #@save\n",
    "    \"\"\"Get a GPU device.\"\"\"\n",
    "    return torch.device(f'cuda:{i}')\n",
    "\n",
    "cpu(), gpu(), gpu(1)"
   ]
  },
  {
   "cell_type": "code",
   "execution_count": 4,
   "id": "c29ed2e9",
   "metadata": {
    "execution": {
     "iopub.execute_input": "2023-02-10T06:11:16.870755Z",
     "iopub.status.busy": "2023-02-10T06:11:16.870507Z",
     "iopub.status.idle": "2023-02-10T06:11:16.876211Z",
     "shell.execute_reply": "2023-02-10T06:11:16.875484Z"
    },
    "origin_pos": 16,
    "tab": [
     "pytorch"
    ]
   },
   "outputs": [
    {
     "data": {
      "text/plain": [
       "0"
      ]
     },
     "execution_count": 4,
     "metadata": {},
     "output_type": "execute_result"
    }
   ],
   "source": [
    "def num_gpus():  #@save\n",
    "    \"\"\"Get the number of available GPUs.\"\"\"\n",
    "    return torch.cuda.device_count()\n",
    "\n",
    "num_gpus()"
   ]
  },
  {
   "cell_type": "code",
   "execution_count": 5,
   "id": "8b4d3266",
   "metadata": {
    "execution": {
     "iopub.execute_input": "2023-02-10T06:11:16.880202Z",
     "iopub.status.busy": "2023-02-10T06:11:16.879877Z",
     "iopub.status.idle": "2023-02-10T06:11:16.968706Z",
     "shell.execute_reply": "2023-02-10T06:11:16.967943Z"
    },
    "origin_pos": 19,
    "tab": [
     "pytorch"
    ]
   },
   "outputs": [
    {
     "data": {
      "text/plain": [
       "(device(type='cpu'), device(type='cpu'), [])"
      ]
     },
     "execution_count": 5,
     "metadata": {},
     "output_type": "execute_result"
    }
   ],
   "source": [
    "def try_gpu(i=0):  #@save\n",
    "    \"\"\"Return gpu(i) if exists, otherwise return cpu().\"\"\"\n",
    "    if num_gpus() >= i + 1:\n",
    "        return gpu(i)\n",
    "    return cpu()\n",
    "\n",
    "def try_all_gpus():  #@save\n",
    "    \"\"\"Return all available GPUs, or [cpu(),] if no GPU exists.\"\"\"\n",
    "    return [gpu(i) for i in range(num_gpus())]\n",
    "\n",
    "try_gpu(), try_gpu(10), try_all_gpus()"
   ]
  },
  {
   "attachments": {},
   "cell_type": "markdown",
   "id": "a153e3c5",
   "metadata": {
    "origin_pos": 20
   },
   "source": [
    "## Tensors and GPUs\n"
   ]
  },
  {
   "cell_type": "code",
   "execution_count": 6,
   "id": "c4d98324",
   "metadata": {
    "execution": {
     "iopub.execute_input": "2023-02-10T06:11:16.973502Z",
     "iopub.status.busy": "2023-02-10T06:11:16.972190Z",
     "iopub.status.idle": "2023-02-10T06:11:16.983126Z",
     "shell.execute_reply": "2023-02-10T06:11:16.981672Z"
    },
    "origin_pos": 26,
    "tab": [
     "pytorch"
    ]
   },
   "outputs": [
    {
     "data": {
      "text/plain": [
       "device(type='cpu')"
      ]
     },
     "execution_count": 6,
     "metadata": {},
     "output_type": "execute_result"
    }
   ],
   "source": [
    "x = torch.tensor([1, 2, 3])\n",
    "x.device"
   ]
  },
  {
   "cell_type": "code",
   "execution_count": 7,
   "id": "c7a3dfeb",
   "metadata": {
    "execution": {
     "iopub.execute_input": "2023-02-10T06:11:16.987537Z",
     "iopub.status.busy": "2023-02-10T06:11:16.986744Z",
     "iopub.status.idle": "2023-02-10T06:11:20.971492Z",
     "shell.execute_reply": "2023-02-10T06:11:20.970403Z"
    },
    "origin_pos": 31,
    "tab": [
     "pytorch"
    ]
   },
   "outputs": [
    {
     "data": {
      "text/plain": [
       "tensor([[1., 1., 1.],\n",
       "        [1., 1., 1.]])"
      ]
     },
     "execution_count": 7,
     "metadata": {},
     "output_type": "execute_result"
    }
   ],
   "source": [
    "X = torch.ones(2, 3, device=try_gpu())\n",
    "X"
   ]
  },
  {
   "cell_type": "code",
   "execution_count": 8,
   "id": "e03996a9",
   "metadata": {
    "execution": {
     "iopub.execute_input": "2023-02-10T06:11:20.975019Z",
     "iopub.status.busy": "2023-02-10T06:11:20.974752Z",
     "iopub.status.idle": "2023-02-10T06:11:25.342107Z",
     "shell.execute_reply": "2023-02-10T06:11:25.340951Z"
    },
    "origin_pos": 36,
    "tab": [
     "pytorch"
    ]
   },
   "outputs": [
    {
     "data": {
      "text/plain": [
       "tensor([[0.6556, 0.2146, 0.0196],\n",
       "        [0.1207, 0.1107, 0.5549]])"
      ]
     },
     "execution_count": 8,
     "metadata": {},
     "output_type": "execute_result"
    }
   ],
   "source": [
    "Y = torch.rand(2, 3, device=try_gpu(1))\n",
    "Y"
   ]
  },
  {
   "attachments": {},
   "cell_type": "markdown",
   "id": "1445ab85",
   "metadata": {
    "origin_pos": 39
   },
   "source": [
    "### Copying\n"
   ]
  },
  {
   "cell_type": "code",
   "execution_count": 9,
   "id": "9accbec5",
   "metadata": {
    "execution": {
     "iopub.execute_input": "2023-02-10T06:11:25.347275Z",
     "iopub.status.busy": "2023-02-10T06:11:25.346662Z",
     "iopub.status.idle": "2023-02-10T06:11:25.359335Z",
     "shell.execute_reply": "2023-02-10T06:11:25.358055Z"
    },
    "origin_pos": 41,
    "tab": [
     "pytorch"
    ]
   },
   "outputs": [
    {
     "ename": "AssertionError",
     "evalue": "Torch not compiled with CUDA enabled",
     "output_type": "error",
     "traceback": [
      "\u001b[0;31m---------------------------------------------------------------------------\u001b[0m",
      "\u001b[0;31mAssertionError\u001b[0m                            Traceback (most recent call last)",
      "Cell \u001b[0;32mIn[9], line 1\u001b[0m\n\u001b[0;32m----> 1\u001b[0m Z \u001b[39m=\u001b[39m X\u001b[39m.\u001b[39;49mcuda(\u001b[39m1\u001b[39;49m)\n\u001b[1;32m      2\u001b[0m \u001b[39mprint\u001b[39m(X)\n\u001b[1;32m      3\u001b[0m \u001b[39mprint\u001b[39m(Z)\n",
      "File \u001b[0;32m~/miniconda3/envs/torch-gpu/lib/python3.8/site-packages/torch/cuda/__init__.py:239\u001b[0m, in \u001b[0;36m_lazy_init\u001b[0;34m()\u001b[0m\n\u001b[1;32m    235\u001b[0m     \u001b[39mraise\u001b[39;00m \u001b[39mRuntimeError\u001b[39;00m(\n\u001b[1;32m    236\u001b[0m         \u001b[39m\"\u001b[39m\u001b[39mCannot re-initialize CUDA in forked subprocess. To use CUDA with \u001b[39m\u001b[39m\"\u001b[39m\n\u001b[1;32m    237\u001b[0m         \u001b[39m\"\u001b[39m\u001b[39mmultiprocessing, you must use the \u001b[39m\u001b[39m'\u001b[39m\u001b[39mspawn\u001b[39m\u001b[39m'\u001b[39m\u001b[39m start method\u001b[39m\u001b[39m\"\u001b[39m)\n\u001b[1;32m    238\u001b[0m \u001b[39mif\u001b[39;00m \u001b[39mnot\u001b[39;00m \u001b[39mhasattr\u001b[39m(torch\u001b[39m.\u001b[39m_C, \u001b[39m'\u001b[39m\u001b[39m_cuda_getDeviceCount\u001b[39m\u001b[39m'\u001b[39m):\n\u001b[0;32m--> 239\u001b[0m     \u001b[39mraise\u001b[39;00m \u001b[39mAssertionError\u001b[39;00m(\u001b[39m\"\u001b[39m\u001b[39mTorch not compiled with CUDA enabled\u001b[39m\u001b[39m\"\u001b[39m)\n\u001b[1;32m    240\u001b[0m \u001b[39mif\u001b[39;00m _cudart \u001b[39mis\u001b[39;00m \u001b[39mNone\u001b[39;00m:\n\u001b[1;32m    241\u001b[0m     \u001b[39mraise\u001b[39;00m \u001b[39mAssertionError\u001b[39;00m(\n\u001b[1;32m    242\u001b[0m         \u001b[39m\"\u001b[39m\u001b[39mlibcudart functions unavailable. It looks like you have a broken build?\u001b[39m\u001b[39m\"\u001b[39m)\n",
      "\u001b[0;31mAssertionError\u001b[0m: Torch not compiled with CUDA enabled"
     ]
    }
   ],
   "source": [
    "Z = X.cuda(1)\n",
    "print(X)\n",
    "print(Z)"
   ]
  },
  {
   "cell_type": "code",
   "execution_count": null,
   "id": "01b0eeb8",
   "metadata": {
    "execution": {
     "iopub.execute_input": "2023-02-10T06:11:25.362997Z",
     "iopub.status.busy": "2023-02-10T06:11:25.362467Z",
     "iopub.status.idle": "2023-02-10T06:11:25.369421Z",
     "shell.execute_reply": "2023-02-10T06:11:25.368691Z"
    },
    "origin_pos": 45,
    "tab": [
     "pytorch"
    ]
   },
   "outputs": [
    {
     "data": {
      "text/plain": [
       "tensor([[1.7781, 1.1400, 1.4503],\n",
       "        [1.1745, 1.2343, 1.6356]], device='cuda:1')"
      ]
     },
     "execution_count": 10,
     "metadata": {},
     "output_type": "execute_result"
    }
   ],
   "source": [
    "Y + Z"
   ]
  },
  {
   "cell_type": "code",
   "execution_count": null,
   "id": "fcb923c9",
   "metadata": {
    "execution": {
     "iopub.execute_input": "2023-02-10T06:11:25.373749Z",
     "iopub.status.busy": "2023-02-10T06:11:25.372374Z",
     "iopub.status.idle": "2023-02-10T06:11:25.379042Z",
     "shell.execute_reply": "2023-02-10T06:11:25.378082Z"
    },
    "origin_pos": 51,
    "tab": [
     "pytorch"
    ]
   },
   "outputs": [
    {
     "data": {
      "text/plain": [
       "True"
      ]
     },
     "execution_count": 11,
     "metadata": {},
     "output_type": "execute_result"
    }
   ],
   "source": [
    "Z.cuda(1) is Z"
   ]
  },
  {
   "attachments": {},
   "cell_type": "markdown",
   "id": "e0298ef1",
   "metadata": {
    "origin_pos": 54
   },
   "source": [
    "\n",
    "\n",
    "## [**Neural Networks and GPUs**]\n"
   ]
  },
  {
   "cell_type": "code",
   "execution_count": null,
   "id": "8d4f7b98",
   "metadata": {
    "execution": {
     "iopub.execute_input": "2023-02-10T06:11:25.382893Z",
     "iopub.status.busy": "2023-02-10T06:11:25.381904Z",
     "iopub.status.idle": "2023-02-10T06:11:25.391278Z",
     "shell.execute_reply": "2023-02-10T06:11:25.390208Z"
    },
    "origin_pos": 56,
    "tab": [
     "pytorch"
    ]
   },
   "outputs": [],
   "source": [
    "net = nn.Sequential(nn.LazyLinear(1))\n",
    "net = net.to(device=try_gpu())"
   ]
  },
  {
   "cell_type": "code",
   "execution_count": null,
   "id": "60735ce8",
   "metadata": {
    "execution": {
     "iopub.execute_input": "2023-02-10T06:11:25.394819Z",
     "iopub.status.busy": "2023-02-10T06:11:25.394228Z",
     "iopub.status.idle": "2023-02-10T06:11:25.724556Z",
     "shell.execute_reply": "2023-02-10T06:11:25.723639Z"
    },
    "origin_pos": 60,
    "tab": [
     "pytorch"
    ]
   },
   "outputs": [
    {
     "data": {
      "text/plain": [
       "tensor([[0.1746],\n",
       "        [0.1746]], device='cuda:0', grad_fn=<AddmmBackward0>)"
      ]
     },
     "execution_count": 13,
     "metadata": {},
     "output_type": "execute_result"
    }
   ],
   "source": [
    "net(X)"
   ]
  },
  {
   "cell_type": "code",
   "execution_count": null,
   "id": "58ff9b66",
   "metadata": {
    "execution": {
     "iopub.execute_input": "2023-02-10T06:11:25.727894Z",
     "iopub.status.busy": "2023-02-10T06:11:25.727622Z",
     "iopub.status.idle": "2023-02-10T06:11:25.735376Z",
     "shell.execute_reply": "2023-02-10T06:11:25.734562Z"
    },
    "origin_pos": 64,
    "tab": [
     "pytorch"
    ]
   },
   "outputs": [
    {
     "data": {
      "text/plain": [
       "device(type='cuda', index=0)"
      ]
     },
     "execution_count": 14,
     "metadata": {},
     "output_type": "execute_result"
    }
   ],
   "source": [
    "net[0].weight.data.device"
   ]
  },
  {
   "cell_type": "code",
   "execution_count": null,
   "id": "45166355",
   "metadata": {
    "execution": {
     "iopub.execute_input": "2023-02-10T06:11:25.740664Z",
     "iopub.status.busy": "2023-02-10T06:11:25.738961Z",
     "iopub.status.idle": "2023-02-10T06:11:25.750655Z",
     "shell.execute_reply": "2023-02-10T06:11:25.747863Z"
    },
    "origin_pos": 69,
    "tab": [
     "pytorch"
    ]
   },
   "outputs": [],
   "source": [
    "@d2l.add_to_class(d2l.Trainer)  #@save\n",
    "def __init__(self, max_epochs, num_gpus=0, gradient_clip_val=0):\n",
    "    self.save_hyperparameters()\n",
    "    self.gpus = [d2l.gpu(i) for i in range(min(num_gpus, d2l.num_gpus()))]\n",
    "\n",
    "@d2l.add_to_class(d2l.Trainer)  #@save\n",
    "def prepare_batch(self, batch):\n",
    "    if self.gpus:\n",
    "        batch = [a.to(self.gpus[0]) for a in batch]\n",
    "    return batch\n",
    "\n",
    "@d2l.add_to_class(d2l.Trainer)  #@save\n",
    "def prepare_model(self, model):\n",
    "    model.trainer = self\n",
    "    model.board.xlim = [0, self.max_epochs]\n",
    "    if self.gpus:\n",
    "        model.to(self.gpus[0])\n",
    "    self.model = model"
   ]
  }
 ],
 "metadata": {
  "kernelspec": {
   "display_name": "torch-gpu",
   "language": "python",
   "name": "python3"
  },
  "language_info": {
   "codemirror_mode": {
    "name": "ipython",
    "version": 3
   },
   "file_extension": ".py",
   "mimetype": "text/x-python",
   "name": "python",
   "nbconvert_exporter": "python",
   "pygments_lexer": "ipython3",
   "version": "3.8.16"
  }
 },
 "nbformat": 4,
 "nbformat_minor": 5
}
