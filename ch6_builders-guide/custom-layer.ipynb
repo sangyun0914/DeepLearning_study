{
 "cells": [
  {
   "attachments": {},
   "cell_type": "markdown",
   "id": "a7ee05fe",
   "metadata": {
    "origin_pos": 1
   },
   "source": [
    "# Custom Layers\n",
    "\n",
    "This section discuss custom layers in deep learning, which are used to design architectures suitable for a wide variety of tasks.\n",
    "\n",
    "\n",
    "\n"
   ]
  },
  {
   "cell_type": "code",
   "execution_count": 1,
   "id": "d4ab4931",
   "metadata": {
    "execution": {
     "iopub.execute_input": "2023-02-10T04:36:10.224808Z",
     "iopub.status.busy": "2023-02-10T04:36:10.224515Z",
     "iopub.status.idle": "2023-02-10T04:36:13.302190Z",
     "shell.execute_reply": "2023-02-10T04:36:13.299002Z"
    },
    "origin_pos": 3,
    "tab": [
     "pytorch"
    ]
   },
   "outputs": [],
   "source": [
    "import torch\n",
    "from torch import nn\n",
    "from torch.nn import functional as F\n",
    "from d2l import torch as d2l"
   ]
  },
  {
   "attachments": {},
   "cell_type": "markdown",
   "id": "0087ce81",
   "metadata": {
    "origin_pos": 6
   },
   "source": [
    "## (**Layers without Parameters**)\n"
   ]
  },
  {
   "cell_type": "code",
   "execution_count": 2,
   "id": "ac0141bf",
   "metadata": {
    "execution": {
     "iopub.execute_input": "2023-02-10T04:36:13.309039Z",
     "iopub.status.busy": "2023-02-10T04:36:13.308200Z",
     "iopub.status.idle": "2023-02-10T04:36:13.319620Z",
     "shell.execute_reply": "2023-02-10T04:36:13.316707Z"
    },
    "origin_pos": 8,
    "tab": [
     "pytorch"
    ]
   },
   "outputs": [],
   "source": [
    "class CenteredLayer(nn.Module):\n",
    "    def __init__(self):\n",
    "        super().__init__()\n",
    "\n",
    "    def forward(self, X):\n",
    "        return X - X.mean()"
   ]
  },
  {
   "cell_type": "code",
   "execution_count": 3,
   "id": "6b1880d1",
   "metadata": {
    "execution": {
     "iopub.execute_input": "2023-02-10T04:36:13.324173Z",
     "iopub.status.busy": "2023-02-10T04:36:13.323047Z",
     "iopub.status.idle": "2023-02-10T04:36:13.359712Z",
     "shell.execute_reply": "2023-02-10T04:36:13.358859Z"
    },
    "origin_pos": 12,
    "tab": [
     "pytorch"
    ]
   },
   "outputs": [
    {
     "data": {
      "text/plain": [
       "tensor([-2., -1.,  0.,  1.,  2.])"
      ]
     },
     "execution_count": 3,
     "metadata": {},
     "output_type": "execute_result"
    }
   ],
   "source": [
    "layer = CenteredLayer()\n",
    "layer(torch.tensor([1.0, 2, 3, 4, 5]))"
   ]
  },
  {
   "cell_type": "code",
   "execution_count": 4,
   "id": "aadbe863",
   "metadata": {
    "execution": {
     "iopub.execute_input": "2023-02-10T04:36:13.364118Z",
     "iopub.status.busy": "2023-02-10T04:36:13.363585Z",
     "iopub.status.idle": "2023-02-10T04:36:13.386564Z",
     "shell.execute_reply": "2023-02-10T04:36:13.384919Z"
    },
    "origin_pos": 15,
    "tab": [
     "pytorch"
    ]
   },
   "outputs": [
    {
     "name": "stderr",
     "output_type": "stream",
     "text": [
      "/Users/sangyun/miniconda3/envs/torch-gpu/lib/python3.8/site-packages/torch/nn/modules/lazy.py:180: UserWarning: Lazy modules are a new feature under heavy development so changes to the API or functionality can happen at any moment.\n",
      "  warnings.warn('Lazy modules are a new feature under heavy development '\n"
     ]
    }
   ],
   "source": [
    "net = nn.Sequential(nn.LazyLinear(128), CenteredLayer())"
   ]
  },
  {
   "cell_type": "code",
   "execution_count": 5,
   "id": "a84fe9dd",
   "metadata": {
    "execution": {
     "iopub.execute_input": "2023-02-10T04:36:13.391206Z",
     "iopub.status.busy": "2023-02-10T04:36:13.389826Z",
     "iopub.status.idle": "2023-02-10T04:36:13.403839Z",
     "shell.execute_reply": "2023-02-10T04:36:13.401188Z"
    },
    "origin_pos": 20,
    "tab": [
     "pytorch"
    ]
   },
   "outputs": [
    {
     "data": {
      "text/plain": [
       "tensor(-5.5879e-09, grad_fn=<MeanBackward0>)"
      ]
     },
     "execution_count": 5,
     "metadata": {},
     "output_type": "execute_result"
    }
   ],
   "source": [
    "Y = net(torch.rand(4, 8))\n",
    "Y.mean()"
   ]
  },
  {
   "attachments": {},
   "cell_type": "markdown",
   "id": "0932522e",
   "metadata": {
    "origin_pos": 23
   },
   "source": [
    "## [**Layers with Parameters**]\n"
   ]
  },
  {
   "cell_type": "code",
   "execution_count": 6,
   "id": "11e7b26d",
   "metadata": {
    "execution": {
     "iopub.execute_input": "2023-02-10T04:36:13.408871Z",
     "iopub.status.busy": "2023-02-10T04:36:13.407600Z",
     "iopub.status.idle": "2023-02-10T04:36:13.420033Z",
     "shell.execute_reply": "2023-02-10T04:36:13.417146Z"
    },
    "origin_pos": 25,
    "tab": [
     "pytorch"
    ]
   },
   "outputs": [],
   "source": [
    "class MyLinear(nn.Module):\n",
    "    def __init__(self, in_units, units):\n",
    "        super().__init__()\n",
    "        self.weight = nn.Parameter(torch.randn(in_units, units))\n",
    "        self.bias = nn.Parameter(torch.randn(units,))\n",
    "\n",
    "    def forward(self, X):\n",
    "        linear = torch.matmul(X, self.weight.data) + self.bias.data\n",
    "        return F.relu(linear)"
   ]
  },
  {
   "cell_type": "code",
   "execution_count": 7,
   "id": "5f27458f",
   "metadata": {
    "execution": {
     "iopub.execute_input": "2023-02-10T04:36:13.427151Z",
     "iopub.status.busy": "2023-02-10T04:36:13.425883Z",
     "iopub.status.idle": "2023-02-10T04:36:13.436271Z",
     "shell.execute_reply": "2023-02-10T04:36:13.435422Z"
    },
    "origin_pos": 31,
    "tab": [
     "pytorch"
    ]
   },
   "outputs": [
    {
     "data": {
      "text/plain": [
       "Parameter containing:\n",
       "tensor([[-2.0290, -0.5945,  2.2063],\n",
       "        [ 0.8983, -0.2013, -1.6743],\n",
       "        [-1.4269, -0.1100, -0.5792],\n",
       "        [ 1.5068,  0.0827,  1.7808],\n",
       "        [-1.1285,  0.0056,  0.6595]], requires_grad=True)"
      ]
     },
     "execution_count": 7,
     "metadata": {},
     "output_type": "execute_result"
    }
   ],
   "source": [
    "linear = MyLinear(5, 3)\n",
    "linear.weight"
   ]
  },
  {
   "cell_type": "code",
   "execution_count": 8,
   "id": "556ef632",
   "metadata": {
    "execution": {
     "iopub.execute_input": "2023-02-10T04:36:13.441810Z",
     "iopub.status.busy": "2023-02-10T04:36:13.440223Z",
     "iopub.status.idle": "2023-02-10T04:36:13.448345Z",
     "shell.execute_reply": "2023-02-10T04:36:13.447507Z"
    },
    "origin_pos": 36,
    "tab": [
     "pytorch"
    ]
   },
   "outputs": [
    {
     "data": {
      "text/plain": [
       "tensor([[0.0000, 0.4155, 1.1194],\n",
       "        [0.0000, 0.4092, 0.0000]])"
      ]
     },
     "execution_count": 8,
     "metadata": {},
     "output_type": "execute_result"
    }
   ],
   "source": [
    "linear(torch.rand(2, 5))"
   ]
  },
  {
   "cell_type": "code",
   "execution_count": 9,
   "id": "067b63ba",
   "metadata": {
    "execution": {
     "iopub.execute_input": "2023-02-10T04:36:13.453905Z",
     "iopub.status.busy": "2023-02-10T04:36:13.453521Z",
     "iopub.status.idle": "2023-02-10T04:36:13.473649Z",
     "shell.execute_reply": "2023-02-10T04:36:13.467570Z"
    },
    "origin_pos": 41,
    "tab": [
     "pytorch"
    ]
   },
   "outputs": [
    {
     "data": {
      "text/plain": [
       "tensor([[0.],\n",
       "        [0.]])"
      ]
     },
     "execution_count": 9,
     "metadata": {},
     "output_type": "execute_result"
    }
   ],
   "source": [
    "net = nn.Sequential(MyLinear(64, 8), MyLinear(8, 1))\n",
    "net(torch.rand(2, 64))"
   ]
  }
 ],
 "metadata": {
  "kernelspec": {
   "display_name": "torch-gpu",
   "language": "python",
   "name": "python3"
  },
  "language_info": {
   "codemirror_mode": {
    "name": "ipython",
    "version": 3
   },
   "file_extension": ".py",
   "mimetype": "text/x-python",
   "name": "python",
   "nbconvert_exporter": "python",
   "pygments_lexer": "ipython3",
   "version": "3.8.16"
  }
 },
 "nbformat": 4,
 "nbformat_minor": 5
}
