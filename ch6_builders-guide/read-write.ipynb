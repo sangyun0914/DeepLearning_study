{
 "cells": [
  {
   "attachments": {},
   "cell_type": "markdown",
   "id": "904d069e",
   "metadata": {
    "origin_pos": 1
   },
   "source": [
    "# File I/O\n",
    "\n",
    "In this section, the focus is on file input and output (I/O) in PyTorch. Saving and loading individual tensors using save and load functions are explained. A list of tensors and a dictionary of tensors can also be saved and loaded. Saving and loading model parameters using state_dict and load_state_dict functions are also discussed.\n",
    "\n",
    "\n",
    "\n"
   ]
  },
  {
   "cell_type": "code",
   "execution_count": 10,
   "id": "8212be1e",
   "metadata": {
    "execution": {
     "iopub.execute_input": "2023-02-10T05:20:29.909632Z",
     "iopub.status.busy": "2023-02-10T05:20:29.909326Z",
     "iopub.status.idle": "2023-02-10T05:20:31.693144Z",
     "shell.execute_reply": "2023-02-10T05:20:31.686997Z"
    },
    "origin_pos": 3,
    "tab": [
     "pytorch"
    ]
   },
   "outputs": [],
   "source": [
    "import torch\n",
    "from torch import nn\n",
    "from torch.nn import functional as F"
   ]
  },
  {
   "attachments": {},
   "cell_type": "markdown",
   "id": "f2e1a27f",
   "metadata": {
    "origin_pos": 6
   },
   "source": [
    "## (**Loading and Saving Tensors**)\n",
    "\n",
    "\n"
   ]
  },
  {
   "cell_type": "code",
   "execution_count": 11,
   "id": "935fcea6",
   "metadata": {
    "execution": {
     "iopub.execute_input": "2023-02-10T05:20:31.699350Z",
     "iopub.status.busy": "2023-02-10T05:20:31.698880Z",
     "iopub.status.idle": "2023-02-10T05:20:31.712623Z",
     "shell.execute_reply": "2023-02-10T05:20:31.709441Z"
    },
    "origin_pos": 8,
    "tab": [
     "pytorch"
    ]
   },
   "outputs": [],
   "source": [
    "x = torch.arange(4)\n",
    "torch.save(x, 'x-file')"
   ]
  },
  {
   "cell_type": "code",
   "execution_count": 12,
   "id": "3dc49fcf",
   "metadata": {
    "execution": {
     "iopub.execute_input": "2023-02-10T05:20:31.719062Z",
     "iopub.status.busy": "2023-02-10T05:20:31.717558Z",
     "iopub.status.idle": "2023-02-10T05:20:31.741752Z",
     "shell.execute_reply": "2023-02-10T05:20:31.740553Z"
    },
    "origin_pos": 13,
    "tab": [
     "pytorch"
    ]
   },
   "outputs": [
    {
     "data": {
      "text/plain": [
       "tensor([0, 1, 2, 3])"
      ]
     },
     "execution_count": 12,
     "metadata": {},
     "output_type": "execute_result"
    }
   ],
   "source": [
    "x2 = torch.load('x-file')\n",
    "x2"
   ]
  },
  {
   "cell_type": "code",
   "execution_count": 13,
   "id": "3cfb7c30",
   "metadata": {
    "execution": {
     "iopub.execute_input": "2023-02-10T05:20:31.746742Z",
     "iopub.status.busy": "2023-02-10T05:20:31.746235Z",
     "iopub.status.idle": "2023-02-10T05:20:31.761561Z",
     "shell.execute_reply": "2023-02-10T05:20:31.759885Z"
    },
    "origin_pos": 18,
    "tab": [
     "pytorch"
    ]
   },
   "outputs": [
    {
     "data": {
      "text/plain": [
       "(tensor([0, 1, 2, 3]), tensor([0., 0., 0., 0.]))"
      ]
     },
     "execution_count": 13,
     "metadata": {},
     "output_type": "execute_result"
    }
   ],
   "source": [
    "y = torch.zeros(4)\n",
    "torch.save([x, y],'x-files')\n",
    "x2, y2 = torch.load('x-files')\n",
    "(x2, y2)"
   ]
  },
  {
   "cell_type": "code",
   "execution_count": 14,
   "id": "619e97a0",
   "metadata": {
    "execution": {
     "iopub.execute_input": "2023-02-10T05:20:31.765880Z",
     "iopub.status.busy": "2023-02-10T05:20:31.765462Z",
     "iopub.status.idle": "2023-02-10T05:20:31.787032Z",
     "shell.execute_reply": "2023-02-10T05:20:31.785774Z"
    },
    "origin_pos": 23,
    "tab": [
     "pytorch"
    ]
   },
   "outputs": [
    {
     "data": {
      "text/plain": [
       "{'x': tensor([0, 1, 2, 3]), 'y': tensor([0., 0., 0., 0.])}"
      ]
     },
     "execution_count": 14,
     "metadata": {},
     "output_type": "execute_result"
    }
   ],
   "source": [
    "mydict = {'x': x, 'y': y}\n",
    "torch.save(mydict, 'mydict')\n",
    "mydict2 = torch.load('mydict')\n",
    "mydict2"
   ]
  },
  {
   "attachments": {},
   "cell_type": "markdown",
   "id": "cb2af6bd",
   "metadata": {
    "origin_pos": 26
   },
   "source": [
    "## [**Loading and Saving Model Parameters**]\n"
   ]
  },
  {
   "cell_type": "code",
   "execution_count": 15,
   "id": "903f0e92",
   "metadata": {
    "execution": {
     "iopub.execute_input": "2023-02-10T05:20:31.792534Z",
     "iopub.status.busy": "2023-02-10T05:20:31.792006Z",
     "iopub.status.idle": "2023-02-10T05:20:31.830441Z",
     "shell.execute_reply": "2023-02-10T05:20:31.825701Z"
    },
    "origin_pos": 28,
    "tab": [
     "pytorch"
    ]
   },
   "outputs": [],
   "source": [
    "class MLP(nn.Module):\n",
    "    def __init__(self):\n",
    "        super().__init__()\n",
    "        self.hidden = nn.LazyLinear(256)\n",
    "        self.output = nn.LazyLinear(10)\n",
    "\n",
    "    def forward(self, x):\n",
    "        return self.output(F.relu(self.hidden(x)))\n",
    "\n",
    "net = MLP()\n",
    "X = torch.randn(size=(2, 20))\n",
    "Y = net(X)"
   ]
  },
  {
   "cell_type": "code",
   "execution_count": 16,
   "id": "8500ae41",
   "metadata": {
    "execution": {
     "iopub.execute_input": "2023-02-10T05:20:31.835738Z",
     "iopub.status.busy": "2023-02-10T05:20:31.833870Z",
     "iopub.status.idle": "2023-02-10T05:20:31.846860Z",
     "shell.execute_reply": "2023-02-10T05:20:31.845488Z"
    },
    "origin_pos": 33,
    "tab": [
     "pytorch"
    ]
   },
   "outputs": [],
   "source": [
    "torch.save(net.state_dict(), 'mlp.params')"
   ]
  },
  {
   "cell_type": "code",
   "execution_count": 17,
   "id": "a8035512",
   "metadata": {
    "execution": {
     "iopub.execute_input": "2023-02-10T05:20:31.855840Z",
     "iopub.status.busy": "2023-02-10T05:20:31.853177Z",
     "iopub.status.idle": "2023-02-10T05:20:31.866070Z",
     "shell.execute_reply": "2023-02-10T05:20:31.865223Z"
    },
    "origin_pos": 38,
    "tab": [
     "pytorch"
    ]
   },
   "outputs": [
    {
     "data": {
      "text/plain": [
       "MLP(\n",
       "  (hidden): LazyLinear(in_features=0, out_features=256, bias=True)\n",
       "  (output): LazyLinear(in_features=0, out_features=10, bias=True)\n",
       ")"
      ]
     },
     "execution_count": 17,
     "metadata": {},
     "output_type": "execute_result"
    }
   ],
   "source": [
    "clone = MLP()\n",
    "clone.load_state_dict(torch.load('mlp.params'))\n",
    "clone.eval()"
   ]
  },
  {
   "cell_type": "code",
   "execution_count": 18,
   "id": "c592d782",
   "metadata": {
    "execution": {
     "iopub.execute_input": "2023-02-10T05:20:31.869526Z",
     "iopub.status.busy": "2023-02-10T05:20:31.869148Z",
     "iopub.status.idle": "2023-02-10T05:20:31.893730Z",
     "shell.execute_reply": "2023-02-10T05:20:31.889168Z"
    },
    "origin_pos": 42,
    "tab": [
     "pytorch"
    ]
   },
   "outputs": [
    {
     "data": {
      "text/plain": [
       "tensor([[True, True, True, True, True, True, True, True, True, True],\n",
       "        [True, True, True, True, True, True, True, True, True, True]])"
      ]
     },
     "execution_count": 18,
     "metadata": {},
     "output_type": "execute_result"
    }
   ],
   "source": [
    "Y_clone = clone(X)\n",
    "Y_clone == Y"
   ]
  }
 ],
 "metadata": {
  "kernelspec": {
   "display_name": "torch-gpu",
   "language": "python",
   "name": "python3"
  },
  "language_info": {
   "codemirror_mode": {
    "name": "ipython",
    "version": 3
   },
   "file_extension": ".py",
   "mimetype": "text/x-python",
   "name": "python",
   "nbconvert_exporter": "python",
   "pygments_lexer": "ipython3",
   "version": "3.8.16"
  }
 },
 "nbformat": 4,
 "nbformat_minor": 5
}
