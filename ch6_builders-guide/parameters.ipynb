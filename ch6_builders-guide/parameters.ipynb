{
 "cells": [
  {
   "attachments": {},
   "cell_type": "markdown",
   "id": "d9601b0a",
   "metadata": {
    "origin_pos": 1
   },
   "source": [
    "# Parameter Management\n",
    "\n",
    "## Section Summary\n",
    "This section discusses parameter management in deep learning and covers accessing, manipulating, and sharing parameters across different model components. It explains how to access and manipulate parameters in PyTorch, using an MLP with one hidden layer as an example. The article shows how to access parameters in a sequential model and provides code examples to extract and manipulate individual parameters. It also demonstrates how to access all parameters at once and how to share parameters across different model components.\n",
    "\n",
    "\n",
    "\n"
   ]
  },
  {
   "cell_type": "code",
   "execution_count": 1,
   "id": "49ad8630",
   "metadata": {
    "execution": {
     "iopub.execute_input": "2023-02-10T05:21:35.253215Z",
     "iopub.status.busy": "2023-02-10T05:21:35.252774Z",
     "iopub.status.idle": "2023-02-10T05:21:37.282430Z",
     "shell.execute_reply": "2023-02-10T05:21:37.277794Z"
    },
    "origin_pos": 3,
    "tab": [
     "pytorch"
    ]
   },
   "outputs": [],
   "source": [
    "import torch\n",
    "from torch import nn"
   ]
  },
  {
   "cell_type": "code",
   "execution_count": 2,
   "id": "81e2ba98",
   "metadata": {
    "execution": {
     "iopub.execute_input": "2023-02-10T05:21:37.288718Z",
     "iopub.status.busy": "2023-02-10T05:21:37.287628Z",
     "iopub.status.idle": "2023-02-10T05:21:37.312190Z",
     "shell.execute_reply": "2023-02-10T05:21:37.309301Z"
    },
    "origin_pos": 8,
    "tab": [
     "pytorch"
    ]
   },
   "outputs": [
    {
     "name": "stderr",
     "output_type": "stream",
     "text": [
      "/Users/sangyun/miniconda3/envs/torch-gpu/lib/python3.8/site-packages/torch/nn/modules/lazy.py:180: UserWarning: Lazy modules are a new feature under heavy development so changes to the API or functionality can happen at any moment.\n",
      "  warnings.warn('Lazy modules are a new feature under heavy development '\n"
     ]
    },
    {
     "data": {
      "text/plain": [
       "torch.Size([2, 1])"
      ]
     },
     "execution_count": 2,
     "metadata": {},
     "output_type": "execute_result"
    }
   ],
   "source": [
    "net = nn.Sequential(nn.LazyLinear(8),\n",
    "                    nn.ReLU(),\n",
    "                    nn.LazyLinear(1))\n",
    "\n",
    "X = torch.rand(size=(2, 4))\n",
    "net(X).shape"
   ]
  },
  {
   "attachments": {},
   "cell_type": "markdown",
   "id": "f2de5a28",
   "metadata": {
    "origin_pos": 11
   },
   "source": [
    "## [**Parameter Access**]\n",
    ":label:`subsec_param-access`\n",
    "\n"
   ]
  },
  {
   "cell_type": "code",
   "execution_count": 3,
   "id": "097d676f",
   "metadata": {
    "execution": {
     "iopub.execute_input": "2023-02-10T05:21:37.317423Z",
     "iopub.status.busy": "2023-02-10T05:21:37.317029Z",
     "iopub.status.idle": "2023-02-10T05:21:37.335562Z",
     "shell.execute_reply": "2023-02-10T05:21:37.334232Z"
    },
    "origin_pos": 16,
    "tab": [
     "pytorch"
    ]
   },
   "outputs": [
    {
     "data": {
      "text/plain": [
       "OrderedDict([('weight',\n",
       "              tensor([[ 0.2116, -0.3472, -0.2912, -0.1954,  0.2635, -0.2421, -0.2910,  0.1562]])),\n",
       "             ('bias', tensor([0.0848]))])"
      ]
     },
     "execution_count": 3,
     "metadata": {},
     "output_type": "execute_result"
    }
   ],
   "source": [
    "net[2].state_dict()"
   ]
  },
  {
   "attachments": {},
   "cell_type": "markdown",
   "id": "78ba0725",
   "metadata": {
    "origin_pos": 19
   },
   "source": [
    "\n",
    "\n",
    "### [**Targeted Parameters**]\n"
   ]
  },
  {
   "cell_type": "code",
   "execution_count": 4,
   "id": "ba9bafe4",
   "metadata": {
    "execution": {
     "iopub.execute_input": "2023-02-10T05:21:37.345240Z",
     "iopub.status.busy": "2023-02-10T05:21:37.344807Z",
     "iopub.status.idle": "2023-02-10T05:21:37.360652Z",
     "shell.execute_reply": "2023-02-10T05:21:37.359697Z"
    },
    "origin_pos": 21,
    "tab": [
     "pytorch"
    ]
   },
   "outputs": [
    {
     "data": {
      "text/plain": [
       "(torch.nn.parameter.Parameter, tensor([0.0848]))"
      ]
     },
     "execution_count": 4,
     "metadata": {},
     "output_type": "execute_result"
    }
   ],
   "source": [
    "type(net[2].bias), net[2].bias.data"
   ]
  },
  {
   "cell_type": "code",
   "execution_count": 5,
   "id": "d4a7c16a",
   "metadata": {
    "execution": {
     "iopub.execute_input": "2023-02-10T05:21:37.370058Z",
     "iopub.status.busy": "2023-02-10T05:21:37.369777Z",
     "iopub.status.idle": "2023-02-10T05:21:37.378567Z",
     "shell.execute_reply": "2023-02-10T05:21:37.377496Z"
    },
    "origin_pos": 27,
    "tab": [
     "pytorch"
    ]
   },
   "outputs": [
    {
     "data": {
      "text/plain": [
       "True"
      ]
     },
     "execution_count": 5,
     "metadata": {},
     "output_type": "execute_result"
    }
   ],
   "source": [
    "net[2].weight.grad == None"
   ]
  },
  {
   "attachments": {},
   "cell_type": "markdown",
   "id": "b0905e5e",
   "metadata": {
    "origin_pos": 28
   },
   "source": [
    "### [**All Parameters at Once**]\n"
   ]
  },
  {
   "cell_type": "code",
   "execution_count": 6,
   "id": "997cac22",
   "metadata": {
    "execution": {
     "iopub.execute_input": "2023-02-10T05:21:37.384784Z",
     "iopub.status.busy": "2023-02-10T05:21:37.383239Z",
     "iopub.status.idle": "2023-02-10T05:21:37.397734Z",
     "shell.execute_reply": "2023-02-10T05:21:37.396862Z"
    },
    "origin_pos": 30,
    "tab": [
     "pytorch"
    ]
   },
   "outputs": [
    {
     "data": {
      "text/plain": [
       "[('0.weight', torch.Size([8, 4])),\n",
       " ('0.bias', torch.Size([8])),\n",
       " ('2.weight', torch.Size([1, 8])),\n",
       " ('2.bias', torch.Size([1]))]"
      ]
     },
     "execution_count": 6,
     "metadata": {},
     "output_type": "execute_result"
    }
   ],
   "source": [
    "[(name, param.shape) for name, param in net.named_parameters()]"
   ]
  },
  {
   "attachments": {},
   "cell_type": "markdown",
   "id": "9170b01c",
   "metadata": {
    "origin_pos": 33
   },
   "source": [
    "## [**Tied Parameters**]\n"
   ]
  },
  {
   "cell_type": "code",
   "execution_count": 7,
   "id": "3b352ab5",
   "metadata": {
    "execution": {
     "iopub.execute_input": "2023-02-10T05:21:37.406521Z",
     "iopub.status.busy": "2023-02-10T05:21:37.403557Z",
     "iopub.status.idle": "2023-02-10T05:21:37.420700Z",
     "shell.execute_reply": "2023-02-10T05:21:37.419767Z"
    },
    "origin_pos": 35,
    "tab": [
     "pytorch"
    ]
   },
   "outputs": [
    {
     "name": "stdout",
     "output_type": "stream",
     "text": [
      "tensor([True, True, True, True, True, True, True, True])\n",
      "tensor([True, True, True, True, True, True, True, True])\n"
     ]
    }
   ],
   "source": [
    "# We need to give the shared layer a name so that we can refer to its\n",
    "# parameters\n",
    "shared = nn.LazyLinear(8)\n",
    "net = nn.Sequential(nn.LazyLinear(8), nn.ReLU(),\n",
    "                    shared, nn.ReLU(),\n",
    "                    shared, nn.ReLU(),\n",
    "                    nn.LazyLinear(1))\n",
    "\n",
    "net(X)\n",
    "# Check whether the parameters are the same\n",
    "print(net[2].weight.data[0] == net[4].weight.data[0])\n",
    "net[2].weight.data[0, 0] = 100\n",
    "# Make sure that they are actually the same object rather than just having the\n",
    "# same value\n",
    "print(net[2].weight.data[0] == net[4].weight.data[0])"
   ]
  }
 ],
 "metadata": {
  "kernelspec": {
   "display_name": "torch-gpu",
   "language": "python",
   "name": "python3"
  },
  "language_info": {
   "codemirror_mode": {
    "name": "ipython",
    "version": 3
   },
   "file_extension": ".py",
   "mimetype": "text/x-python",
   "name": "python",
   "nbconvert_exporter": "python",
   "pygments_lexer": "ipython3",
   "version": "3.8.16"
  }
 },
 "nbformat": 4,
 "nbformat_minor": 5
}
