{
 "cells": [
  {
   "attachments": {},
   "cell_type": "markdown",
   "id": "66ebc48b",
   "metadata": {
    "origin_pos": 1
   },
   "source": [
    "# Parameter Initialization\n",
    "\n",
    "## Section Summary\n",
    "The code demonstrates how to initialize parameters in PyTorch using both built-in and custom initialization methods. The nn.init module provides various preset initialization methods, such as normal, constant, and Xavier, which can be applied to the layers of a neural network. Additionally, custom initialization methods can be defined for cases where the required initialization methods are not provided by the framework.\n",
    "\n",
    "\n",
    "\n"
   ]
  },
  {
   "cell_type": "code",
   "execution_count": 1,
   "id": "570e13db",
   "metadata": {
    "execution": {
     "iopub.execute_input": "2023-02-10T04:39:26.465857Z",
     "iopub.status.busy": "2023-02-10T04:39:26.465525Z",
     "iopub.status.idle": "2023-02-10T04:39:27.906852Z",
     "shell.execute_reply": "2023-02-10T04:39:27.903641Z"
    },
    "origin_pos": 3,
    "tab": [
     "pytorch"
    ]
   },
   "outputs": [],
   "source": [
    "import torch\n",
    "from torch import nn"
   ]
  },
  {
   "cell_type": "code",
   "execution_count": 2,
   "id": "cb7da75c",
   "metadata": {
    "execution": {
     "iopub.execute_input": "2023-02-10T04:39:27.913971Z",
     "iopub.status.busy": "2023-02-10T04:39:27.911366Z",
     "iopub.status.idle": "2023-02-10T04:39:27.929660Z",
     "shell.execute_reply": "2023-02-10T04:39:27.928836Z"
    },
    "origin_pos": 11,
    "tab": [
     "pytorch"
    ]
   },
   "outputs": [
    {
     "name": "stderr",
     "output_type": "stream",
     "text": [
      "/Users/sangyun/miniconda3/envs/torch-gpu/lib/python3.8/site-packages/torch/nn/modules/lazy.py:180: UserWarning: Lazy modules are a new feature under heavy development so changes to the API or functionality can happen at any moment.\n",
      "  warnings.warn('Lazy modules are a new feature under heavy development '\n"
     ]
    },
    {
     "data": {
      "text/plain": [
       "torch.Size([2, 1])"
      ]
     },
     "execution_count": 2,
     "metadata": {},
     "output_type": "execute_result"
    }
   ],
   "source": [
    "net = nn.Sequential(nn.LazyLinear(8), nn.ReLU(), nn.LazyLinear(1))\n",
    "X = torch.rand(size=(2, 4))\n",
    "net(X).shape"
   ]
  },
  {
   "attachments": {},
   "cell_type": "markdown",
   "id": "e0716f48",
   "metadata": {
    "origin_pos": 14
   },
   "source": [
    "## [**Built-in Initialization**]\n",
    "\n"
   ]
  },
  {
   "cell_type": "code",
   "execution_count": 3,
   "id": "18f5f07b",
   "metadata": {
    "execution": {
     "iopub.execute_input": "2023-02-10T04:39:27.933606Z",
     "iopub.status.busy": "2023-02-10T04:39:27.933019Z",
     "iopub.status.idle": "2023-02-10T04:39:27.945564Z",
     "shell.execute_reply": "2023-02-10T04:39:27.944730Z"
    },
    "origin_pos": 16,
    "tab": [
     "pytorch"
    ]
   },
   "outputs": [
    {
     "data": {
      "text/plain": [
       "(tensor([ 0.0132, -0.0059, -0.0116,  0.0036]), tensor(0.))"
      ]
     },
     "execution_count": 3,
     "metadata": {},
     "output_type": "execute_result"
    }
   ],
   "source": [
    "def init_normal(module):\n",
    "    if type(module) == nn.Linear:\n",
    "        nn.init.normal_(module.weight, mean=0, std=0.01)\n",
    "        nn.init.zeros_(module.bias)\n",
    "\n",
    "net.apply(init_normal)\n",
    "net[0].weight.data[0], net[0].bias.data[0]"
   ]
  },
  {
   "cell_type": "code",
   "execution_count": 4,
   "id": "2b6ecca1",
   "metadata": {
    "execution": {
     "iopub.execute_input": "2023-02-10T04:39:27.953668Z",
     "iopub.status.busy": "2023-02-10T04:39:27.951009Z",
     "iopub.status.idle": "2023-02-10T04:39:27.976985Z",
     "shell.execute_reply": "2023-02-10T04:39:27.968784Z"
    },
    "origin_pos": 21,
    "tab": [
     "pytorch"
    ]
   },
   "outputs": [
    {
     "data": {
      "text/plain": [
       "(tensor([1., 1., 1., 1.]), tensor(0.))"
      ]
     },
     "execution_count": 4,
     "metadata": {},
     "output_type": "execute_result"
    }
   ],
   "source": [
    "def init_constant(module):\n",
    "    if type(module) == nn.Linear:\n",
    "        nn.init.constant_(module.weight, 1)\n",
    "        nn.init.zeros_(module.bias)\n",
    "\n",
    "net.apply(init_constant)\n",
    "net[0].weight.data[0], net[0].bias.data[0]"
   ]
  },
  {
   "cell_type": "code",
   "execution_count": 5,
   "id": "572ce749",
   "metadata": {
    "execution": {
     "iopub.execute_input": "2023-02-10T04:39:27.987740Z",
     "iopub.status.busy": "2023-02-10T04:39:27.981624Z",
     "iopub.status.idle": "2023-02-10T04:39:28.005824Z",
     "shell.execute_reply": "2023-02-10T04:39:28.004583Z"
    },
    "origin_pos": 26,
    "tab": [
     "pytorch"
    ]
   },
   "outputs": [
    {
     "name": "stdout",
     "output_type": "stream",
     "text": [
      "tensor([ 0.4478, -0.2251,  0.6909,  0.6696])\n",
      "tensor([[42., 42., 42., 42., 42., 42., 42., 42.]])\n"
     ]
    }
   ],
   "source": [
    "def init_xavier(module):\n",
    "    if type(module) == nn.Linear:\n",
    "        nn.init.xavier_uniform_(module.weight)\n",
    "\n",
    "def init_42(module):\n",
    "    if type(module) == nn.Linear:\n",
    "        nn.init.constant_(module.weight, 42)\n",
    "\n",
    "net[0].apply(init_xavier)\n",
    "net[2].apply(init_42)\n",
    "print(net[0].weight.data[0])\n",
    "print(net[2].weight.data)"
   ]
  },
  {
   "attachments": {},
   "cell_type": "markdown",
   "id": "a578923c",
   "metadata": {
    "origin_pos": 29
   },
   "source": [
    "### [**Custom Initialization**]\n",
    "\n"
   ]
  },
  {
   "cell_type": "code",
   "execution_count": 6,
   "id": "0f97b3ce",
   "metadata": {
    "execution": {
     "iopub.execute_input": "2023-02-10T04:39:28.009695Z",
     "iopub.status.busy": "2023-02-10T04:39:28.009315Z",
     "iopub.status.idle": "2023-02-10T04:39:28.022240Z",
     "shell.execute_reply": "2023-02-10T04:39:28.021392Z"
    },
    "origin_pos": 35,
    "tab": [
     "pytorch"
    ]
   },
   "outputs": [
    {
     "name": "stdout",
     "output_type": "stream",
     "text": [
      "Init weight torch.Size([8, 4])\n",
      "Init weight torch.Size([1, 8])\n"
     ]
    },
    {
     "data": {
      "text/plain": [
       "tensor([[5.9975, -0.0000, 0.0000, 0.0000],\n",
       "        [-0.0000, 0.0000, 5.2955, 0.0000]], grad_fn=<SliceBackward0>)"
      ]
     },
     "execution_count": 6,
     "metadata": {},
     "output_type": "execute_result"
    }
   ],
   "source": [
    "def my_init(module):\n",
    "    if type(module) == nn.Linear:\n",
    "        print(\"Init\", *[(name, param.shape)\n",
    "                        for name, param in module.named_parameters()][0])\n",
    "        nn.init.uniform_(module.weight, -10, 10)\n",
    "        module.weight.data *= module.weight.data.abs() >= 5\n",
    "\n",
    "net.apply(my_init)\n",
    "net[0].weight[:2]"
   ]
  },
  {
   "cell_type": "code",
   "execution_count": 7,
   "id": "f27b7e0c",
   "metadata": {
    "execution": {
     "iopub.execute_input": "2023-02-10T04:39:28.027208Z",
     "iopub.status.busy": "2023-02-10T04:39:28.025545Z",
     "iopub.status.idle": "2023-02-10T04:39:28.045691Z",
     "shell.execute_reply": "2023-02-10T04:39:28.044798Z"
    },
    "origin_pos": 41,
    "tab": [
     "pytorch"
    ]
   },
   "outputs": [
    {
     "data": {
      "text/plain": [
       "tensor([42.,  1.,  1.,  1.])"
      ]
     },
     "execution_count": 7,
     "metadata": {},
     "output_type": "execute_result"
    }
   ],
   "source": [
    "net[0].weight.data[:] += 1\n",
    "net[0].weight.data[0, 0] = 42\n",
    "net[0].weight.data[0]"
   ]
  }
 ],
 "metadata": {
  "kernelspec": {
   "display_name": "torch-gpu",
   "language": "python",
   "name": "python3"
  },
  "language_info": {
   "codemirror_mode": {
    "name": "ipython",
    "version": 3
   },
   "file_extension": ".py",
   "mimetype": "text/x-python",
   "name": "python",
   "nbconvert_exporter": "python",
   "pygments_lexer": "ipython3",
   "version": "3.8.16"
  }
 },
 "nbformat": 4,
 "nbformat_minor": 5
}
