{
 "cells": [
  {
   "attachments": {},
   "cell_type": "markdown",
   "id": "d56d9ada",
   "metadata": {
    "origin_pos": 1
   },
   "source": [
    "# Data Preprocessing\n",
    ":label:`sec_pandas`\n",
    "\n",
    "## Section Summary\n",
    "This sectiion explains how to preprocess data using the Python library \"pandas\". The process starts with reading the data from a CSV file and separating it into input and target values. The text explains how to handle missing values through imputation and deletion. Categorical values can be handled by converting them into dummy variables. Numerical values can be imputed with the mean of the corresponding column. Once the data has been cleaned, it can be loaded into PyTorch tensors for further processing. The text emphasizes that data processing can be complicated and can involve handling different data types, such as text, images, and audio. Outliers, faulty measurements, and recording errors are also common problems that need to be addressed before feeding the data into any model.\n",
    "\n",
    "\n",
    "\n",
    "\n",
    "## Reading the Dataset\n",
    "\n"
   ]
  },
  {
   "cell_type": "code",
   "execution_count": 1,
   "id": "35e6bcf0",
   "metadata": {
    "execution": {
     "iopub.execute_input": "2023-02-10T05:22:52.908473Z",
     "iopub.status.busy": "2023-02-10T05:22:52.908158Z",
     "iopub.status.idle": "2023-02-10T05:22:52.926093Z",
     "shell.execute_reply": "2023-02-10T05:22:52.925154Z"
    },
    "origin_pos": 2,
    "tab": [
     "pytorch"
    ]
   },
   "outputs": [],
   "source": [
    "import os\n",
    "\n",
    "os.makedirs(os.path.join('..', 'data'), exist_ok=True)\n",
    "data_file = os.path.join('..', 'data', 'house_tiny.csv')\n",
    "with open(data_file, 'w') as f:\n",
    "    f.write('''NumRooms,RoofType,Price\n",
    "NA,NA,127500\n",
    "2,NA,106000\n",
    "4,Slate,178100\n",
    "NA,NA,140000''')"
   ]
  },
  {
   "cell_type": "code",
   "execution_count": 2,
   "id": "a9b95043",
   "metadata": {
    "execution": {
     "iopub.execute_input": "2023-02-10T05:22:52.934713Z",
     "iopub.status.busy": "2023-02-10T05:22:52.931350Z",
     "iopub.status.idle": "2023-02-10T05:22:53.395337Z",
     "shell.execute_reply": "2023-02-10T05:22:53.390925Z"
    },
    "origin_pos": 4,
    "tab": [
     "pytorch"
    ]
   },
   "outputs": [
    {
     "name": "stdout",
     "output_type": "stream",
     "text": [
      "   NumRooms RoofType   Price\n",
      "0       NaN      NaN  127500\n",
      "1       2.0      NaN  106000\n",
      "2       4.0    Slate  178100\n",
      "3       NaN      NaN  140000\n"
     ]
    }
   ],
   "source": [
    "import pandas as pd\n",
    "\n",
    "data = pd.read_csv(data_file)\n",
    "print(data)"
   ]
  },
  {
   "attachments": {},
   "cell_type": "markdown",
   "id": "d0904494",
   "metadata": {
    "origin_pos": 5
   },
   "source": [
    "## Data Preparation\n"
   ]
  },
  {
   "cell_type": "code",
   "execution_count": 3,
   "id": "78a09240",
   "metadata": {
    "execution": {
     "iopub.execute_input": "2023-02-10T05:22:53.402235Z",
     "iopub.status.busy": "2023-02-10T05:22:53.401643Z",
     "iopub.status.idle": "2023-02-10T05:22:53.414022Z",
     "shell.execute_reply": "2023-02-10T05:22:53.412882Z"
    },
    "origin_pos": 6,
    "tab": [
     "pytorch"
    ]
   },
   "outputs": [
    {
     "name": "stdout",
     "output_type": "stream",
     "text": [
      "   NumRooms  RoofType_Slate  RoofType_nan\n",
      "0       NaN               0             1\n",
      "1       2.0               0             1\n",
      "2       4.0               1             0\n",
      "3       NaN               0             1\n"
     ]
    }
   ],
   "source": [
    "inputs, targets = data.iloc[:, 0:2], data.iloc[:, 2]\n",
    "inputs = pd.get_dummies(inputs, dummy_na=True)\n",
    "print(inputs)"
   ]
  },
  {
   "cell_type": "code",
   "execution_count": 4,
   "id": "8f2b9699",
   "metadata": {
    "execution": {
     "iopub.execute_input": "2023-02-10T05:22:53.426733Z",
     "iopub.status.busy": "2023-02-10T05:22:53.422728Z",
     "iopub.status.idle": "2023-02-10T05:22:53.436414Z",
     "shell.execute_reply": "2023-02-10T05:22:53.435548Z"
    },
    "origin_pos": 8,
    "tab": [
     "pytorch"
    ]
   },
   "outputs": [
    {
     "name": "stdout",
     "output_type": "stream",
     "text": [
      "   NumRooms  RoofType_Slate  RoofType_nan\n",
      "0       3.0               0             1\n",
      "1       2.0               0             1\n",
      "2       4.0               1             0\n",
      "3       3.0               0             1\n"
     ]
    }
   ],
   "source": [
    "inputs = inputs.fillna(inputs.mean())\n",
    "print(inputs)"
   ]
  },
  {
   "attachments": {},
   "cell_type": "markdown",
   "id": "240e7200",
   "metadata": {
    "origin_pos": 9
   },
   "source": [
    "## Conversion to the Tensor Format\n"
   ]
  },
  {
   "cell_type": "code",
   "execution_count": 5,
   "id": "78c3b960",
   "metadata": {
    "execution": {
     "iopub.execute_input": "2023-02-10T05:22:53.441250Z",
     "iopub.status.busy": "2023-02-10T05:22:53.440900Z",
     "iopub.status.idle": "2023-02-10T05:22:55.288581Z",
     "shell.execute_reply": "2023-02-10T05:22:55.287415Z"
    },
    "origin_pos": 11,
    "tab": [
     "pytorch"
    ]
   },
   "outputs": [
    {
     "data": {
      "text/plain": [
       "(tensor([[3., 0., 1.],\n",
       "         [2., 0., 1.],\n",
       "         [4., 1., 0.],\n",
       "         [3., 0., 1.]], dtype=torch.float64),\n",
       " tensor([127500, 106000, 178100, 140000]))"
      ]
     },
     "execution_count": 5,
     "metadata": {},
     "output_type": "execute_result"
    }
   ],
   "source": [
    "import torch\n",
    "\n",
    "X, y = torch.tensor(inputs.values), torch.tensor(targets.values)\n",
    "X, y"
   ]
  }
 ],
 "metadata": {
  "kernelspec": {
   "display_name": "torch-gpu",
   "language": "python",
   "name": "python3"
  },
  "language_info": {
   "codemirror_mode": {
    "name": "ipython",
    "version": 3
   },
   "file_extension": ".py",
   "mimetype": "text/x-python",
   "name": "python",
   "nbconvert_exporter": "python",
   "pygments_lexer": "ipython3",
   "version": "3.8.16"
  }
 },
 "nbformat": 4,
 "nbformat_minor": 5
}
