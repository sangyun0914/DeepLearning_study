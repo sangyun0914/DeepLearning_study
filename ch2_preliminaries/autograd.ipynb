{
 "cells": [
  {
   "attachments": {},
   "cell_type": "markdown",
   "id": "5fd6a8aa",
   "metadata": {
    "origin_pos": 1
   },
   "source": [
    "# Automatic Differentiation\n",
    ":label:`sec_autograd`\n",
    "\n",
    "## Section Summary\n",
    "This section discusses automatic differentiation, which is a powerful tool used by modern deep learning frameworks. The process of calculating derivatives can be a tedious and error-prone task when done by hand, especially for complex models. Fortunately, autograd packages can build computational graphs that track how each value depends on others and calculate derivatives using the chain rule via backpropagation. The section provides an example of how to calculate the gradient of a function with respect to a vector using PyTorch.\n",
    "\n",
    "\n",
    "\n"
   ]
  },
  {
   "cell_type": "code",
   "execution_count": 24,
   "id": "707d77aa",
   "metadata": {
    "execution": {
     "iopub.execute_input": "2023-02-10T05:22:32.458249Z",
     "iopub.status.busy": "2023-02-10T05:22:32.457817Z",
     "iopub.status.idle": "2023-02-10T05:22:35.033967Z",
     "shell.execute_reply": "2023-02-10T05:22:35.032528Z"
    },
    "origin_pos": 3,
    "tab": [
     "pytorch"
    ]
   },
   "outputs": [],
   "source": [
    "import torch"
   ]
  },
  {
   "attachments": {},
   "cell_type": "markdown",
   "id": "9aad778a",
   "metadata": {
    "origin_pos": 6
   },
   "source": [
    "## A Simple Function\n"
   ]
  },
  {
   "cell_type": "code",
   "execution_count": 25,
   "id": "b2eec656",
   "metadata": {
    "attributes": {
     "classes": [],
     "id": "",
     "n": "7"
    },
    "execution": {
     "iopub.execute_input": "2023-02-10T05:22:35.043974Z",
     "iopub.status.busy": "2023-02-10T05:22:35.042514Z",
     "iopub.status.idle": "2023-02-10T05:22:35.082590Z",
     "shell.execute_reply": "2023-02-10T05:22:35.081555Z"
    },
    "origin_pos": 8,
    "tab": [
     "pytorch"
    ]
   },
   "outputs": [
    {
     "data": {
      "text/plain": [
       "tensor([0., 1., 2., 3.])"
      ]
     },
     "execution_count": 25,
     "metadata": {},
     "output_type": "execute_result"
    }
   ],
   "source": [
    "x = torch.arange(4.0)\n",
    "x"
   ]
  },
  {
   "cell_type": "code",
   "execution_count": 26,
   "id": "5b4f7708",
   "metadata": {
    "attributes": {
     "classes": [],
     "id": "",
     "n": "9"
    },
    "execution": {
     "iopub.execute_input": "2023-02-10T05:22:35.086745Z",
     "iopub.status.busy": "2023-02-10T05:22:35.085955Z",
     "iopub.status.idle": "2023-02-10T05:22:35.094262Z",
     "shell.execute_reply": "2023-02-10T05:22:35.093389Z"
    },
    "origin_pos": 13,
    "tab": [
     "pytorch"
    ]
   },
   "outputs": [],
   "source": [
    "# Can also create x = torch.arange(4.0, requires_grad=True)\n",
    "x.requires_grad_(True)\n",
    "x.grad  # The gradient is None by default"
   ]
  },
  {
   "cell_type": "code",
   "execution_count": 27,
   "id": "27565edd",
   "metadata": {
    "attributes": {
     "classes": [],
     "id": "",
     "n": "11"
    },
    "execution": {
     "iopub.execute_input": "2023-02-10T05:22:35.099364Z",
     "iopub.status.busy": "2023-02-10T05:22:35.098839Z",
     "iopub.status.idle": "2023-02-10T05:22:35.111878Z",
     "shell.execute_reply": "2023-02-10T05:22:35.110630Z"
    },
    "origin_pos": 17,
    "tab": [
     "pytorch"
    ]
   },
   "outputs": [
    {
     "data": {
      "text/plain": [
       "tensor(28., grad_fn=<MulBackward0>)"
      ]
     },
     "execution_count": 27,
     "metadata": {},
     "output_type": "execute_result"
    }
   ],
   "source": [
    "y = 2 * torch.dot(x, x)\n",
    "y"
   ]
  },
  {
   "cell_type": "code",
   "execution_count": 28,
   "id": "90c6e1a7",
   "metadata": {
    "attributes": {
     "classes": [],
     "id": "",
     "n": "12"
    },
    "execution": {
     "iopub.execute_input": "2023-02-10T05:22:35.117539Z",
     "iopub.status.busy": "2023-02-10T05:22:35.117177Z",
     "iopub.status.idle": "2023-02-10T05:22:35.131308Z",
     "shell.execute_reply": "2023-02-10T05:22:35.130199Z"
    },
    "origin_pos": 25,
    "tab": [
     "pytorch"
    ]
   },
   "outputs": [
    {
     "data": {
      "text/plain": [
       "tensor([ 0.,  4.,  8., 12.])"
      ]
     },
     "execution_count": 28,
     "metadata": {},
     "output_type": "execute_result"
    }
   ],
   "source": [
    "y.backward()\n",
    "x.grad"
   ]
  },
  {
   "cell_type": "code",
   "execution_count": 29,
   "id": "7645e6db",
   "metadata": {
    "attributes": {
     "classes": [],
     "id": "",
     "n": "14"
    },
    "execution": {
     "iopub.execute_input": "2023-02-10T05:22:35.136795Z",
     "iopub.status.busy": "2023-02-10T05:22:35.136474Z",
     "iopub.status.idle": "2023-02-10T05:22:35.145065Z",
     "shell.execute_reply": "2023-02-10T05:22:35.144193Z"
    },
    "origin_pos": 30,
    "tab": [
     "pytorch"
    ]
   },
   "outputs": [
    {
     "data": {
      "text/plain": [
       "tensor([True, True, True, True])"
      ]
     },
     "execution_count": 29,
     "metadata": {},
     "output_type": "execute_result"
    }
   ],
   "source": [
    "x.grad == 4 * x"
   ]
  },
  {
   "cell_type": "code",
   "execution_count": 30,
   "id": "9ead22f7",
   "metadata": {
    "attributes": {
     "classes": [],
     "id": "",
     "n": "20"
    },
    "execution": {
     "iopub.execute_input": "2023-02-10T05:22:35.150160Z",
     "iopub.status.busy": "2023-02-10T05:22:35.148924Z",
     "iopub.status.idle": "2023-02-10T05:22:35.162876Z",
     "shell.execute_reply": "2023-02-10T05:22:35.161827Z"
    },
    "origin_pos": 37,
    "tab": [
     "pytorch"
    ]
   },
   "outputs": [
    {
     "name": "stdout",
     "output_type": "stream",
     "text": [
      "tensor(6., grad_fn=<SumBackward0>)\n"
     ]
    },
    {
     "data": {
      "text/plain": [
       "tensor([1., 1., 1., 1.])"
      ]
     },
     "execution_count": 30,
     "metadata": {},
     "output_type": "execute_result"
    }
   ],
   "source": [
    "x.grad.zero_()  # Reset the gradient\n",
    "y = x.sum()\n",
    "print(y)\n",
    "y.backward()\n",
    "x.grad"
   ]
  },
  {
   "attachments": {},
   "cell_type": "markdown",
   "id": "c15b332c",
   "metadata": {
    "origin_pos": 40
   },
   "source": [
    "## Backward for Non-Scalar Variables"
   ]
  },
  {
   "cell_type": "code",
   "execution_count": 34,
   "id": "9294660f",
   "metadata": {
    "execution": {
     "iopub.execute_input": "2023-02-10T05:22:35.167664Z",
     "iopub.status.busy": "2023-02-10T05:22:35.167270Z",
     "iopub.status.idle": "2023-02-10T05:22:35.179378Z",
     "shell.execute_reply": "2023-02-10T05:22:35.176350Z"
    },
    "origin_pos": 45,
    "tab": [
     "pytorch"
    ]
   },
   "outputs": [
    {
     "name": "stdout",
     "output_type": "stream",
     "text": [
      "tensor([0., 2., 4., 6.])\n",
      "tensor([0., 2., 4., 6.])\n"
     ]
    }
   ],
   "source": [
    "x.grad.zero_()\n",
    "y = x * x\n",
    "y.backward(gradient=torch.ones(len(y)))  # Faster: y.sum().backward()\n",
    "print(x.grad)\n",
    "\n",
    "x.grad.zero_()\n",
    "y = x * x\n",
    "y.sum().backward()\n",
    "print(x.grad)"
   ]
  },
  {
   "attachments": {},
   "cell_type": "markdown",
   "id": "1cce50f6",
   "metadata": {
    "origin_pos": 48
   },
   "source": [
    "## Detaching Computation\n"
   ]
  },
  {
   "cell_type": "code",
   "execution_count": 35,
   "id": "153b057a",
   "metadata": {
    "attributes": {
     "classes": [],
     "id": "",
     "n": "21"
    },
    "execution": {
     "iopub.execute_input": "2023-02-10T05:22:35.184414Z",
     "iopub.status.busy": "2023-02-10T05:22:35.183188Z",
     "iopub.status.idle": "2023-02-10T05:22:35.201676Z",
     "shell.execute_reply": "2023-02-10T05:22:35.200220Z"
    },
    "origin_pos": 50,
    "tab": [
     "pytorch"
    ]
   },
   "outputs": [
    {
     "data": {
      "text/plain": [
       "tensor([True, True, True, True])"
      ]
     },
     "execution_count": 35,
     "metadata": {},
     "output_type": "execute_result"
    }
   ],
   "source": [
    "x.grad.zero_()\n",
    "y = x * x\n",
    "u = y.detach()\n",
    "z = u * x\n",
    "\n",
    "z.sum().backward()\n",
    "x.grad == u"
   ]
  },
  {
   "cell_type": "code",
   "execution_count": 36,
   "id": "6e5b7971",
   "metadata": {
    "execution": {
     "iopub.execute_input": "2023-02-10T05:22:35.206711Z",
     "iopub.status.busy": "2023-02-10T05:22:35.206197Z",
     "iopub.status.idle": "2023-02-10T05:22:35.229554Z",
     "shell.execute_reply": "2023-02-10T05:22:35.224749Z"
    },
    "origin_pos": 55,
    "tab": [
     "pytorch"
    ]
   },
   "outputs": [
    {
     "data": {
      "text/plain": [
       "tensor([True, True, True, True])"
      ]
     },
     "execution_count": 36,
     "metadata": {},
     "output_type": "execute_result"
    }
   ],
   "source": [
    "x.grad.zero_()\n",
    "y.sum().backward()\n",
    "x.grad == 2 * x"
   ]
  },
  {
   "attachments": {},
   "cell_type": "markdown",
   "id": "1f589506",
   "metadata": {
    "origin_pos": 58
   },
   "source": [
    "## Gradients and Python Control Flow\n"
   ]
  },
  {
   "cell_type": "code",
   "execution_count": 37,
   "id": "f521991d",
   "metadata": {
    "execution": {
     "iopub.execute_input": "2023-02-10T05:22:35.238218Z",
     "iopub.status.busy": "2023-02-10T05:22:35.236794Z",
     "iopub.status.idle": "2023-02-10T05:22:35.246663Z",
     "shell.execute_reply": "2023-02-10T05:22:35.242738Z"
    },
    "origin_pos": 60,
    "tab": [
     "pytorch"
    ]
   },
   "outputs": [],
   "source": [
    "def f(a):\n",
    "    b = a * 2\n",
    "    while b.norm() < 1000:\n",
    "        b = b * 2\n",
    "    if b.sum() > 0:\n",
    "        c = b\n",
    "    else:\n",
    "        c = 100 * b\n",
    "    return c"
   ]
  },
  {
   "cell_type": "code",
   "execution_count": 46,
   "id": "18525ef9",
   "metadata": {
    "execution": {
     "iopub.execute_input": "2023-02-10T05:22:35.252694Z",
     "iopub.status.busy": "2023-02-10T05:22:35.249998Z",
     "iopub.status.idle": "2023-02-10T05:22:35.260562Z",
     "shell.execute_reply": "2023-02-10T05:22:35.257358Z"
    },
    "origin_pos": 65,
    "tab": [
     "pytorch"
    ]
   },
   "outputs": [
    {
     "name": "stdout",
     "output_type": "stream",
     "text": [
      "tensor(0.0139, requires_grad=True)\n",
      "tensor(1823.8965, grad_fn=<MulBackward0>)\n"
     ]
    },
    {
     "data": {
      "text/plain": [
       "tensor(131072.)"
      ]
     },
     "execution_count": 46,
     "metadata": {},
     "output_type": "execute_result"
    }
   ],
   "source": [
    "a = torch.randn(size=(), requires_grad=True)\n",
    "print(a)\n",
    "d = f(a)\n",
    "print(d)\n",
    "d.backward()\n",
    "a.grad"
   ]
  },
  {
   "cell_type": "code",
   "execution_count": 13,
   "id": "c21c67ec",
   "metadata": {
    "execution": {
     "iopub.execute_input": "2023-02-10T05:22:35.267241Z",
     "iopub.status.busy": "2023-02-10T05:22:35.266757Z",
     "iopub.status.idle": "2023-02-10T05:22:35.286416Z",
     "shell.execute_reply": "2023-02-10T05:22:35.281665Z"
    },
    "origin_pos": 70,
    "tab": [
     "pytorch"
    ]
   },
   "outputs": [
    {
     "data": {
      "text/plain": [
       "tensor(True)"
      ]
     },
     "execution_count": 13,
     "metadata": {},
     "output_type": "execute_result"
    }
   ],
   "source": [
    "a.grad == d / a"
   ]
  }
 ],
 "metadata": {
  "kernelspec": {
   "display_name": "torch-gpu",
   "language": "python",
   "name": "python3"
  },
  "language_info": {
   "codemirror_mode": {
    "name": "ipython",
    "version": 3
   },
   "file_extension": ".py",
   "mimetype": "text/x-python",
   "name": "python",
   "nbconvert_exporter": "python",
   "pygments_lexer": "ipython3",
   "version": "3.8.16"
  }
 },
 "nbformat": 4,
 "nbformat_minor": 5
}
