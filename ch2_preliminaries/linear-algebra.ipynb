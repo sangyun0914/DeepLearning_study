{
 "cells": [
  {
   "attachments": {},
   "cell_type": "markdown",
   "id": "9abf0c58",
   "metadata": {
    "origin_pos": 1
   },
   "source": [
    "# Linear Algebra\n",
    ":label:`sec_linear-algebra`\n",
    "\n",
    "\n",
    "## Section Summary\n",
    "The section discusses linear algebra, which is essential to understand modern deep learning. It mentions that matrices can be decomposed into factors, and these decompositions can reveal low-dimensional structure in real-world datasets. Although there is more to linear algebra, the book focuses on deep learning and its applications to real datasets. The authors believe that readers will be more motivated to learn more mathematics after experiencing applying machine learning to real datasets.\n",
    "\n"
   ]
  },
  {
   "cell_type": "code",
   "execution_count": 1,
   "id": "87556c1c",
   "metadata": {
    "execution": {
     "iopub.execute_input": "2023-02-10T04:43:07.966517Z",
     "iopub.status.busy": "2023-02-10T04:43:07.966050Z",
     "iopub.status.idle": "2023-02-10T04:43:09.389061Z",
     "shell.execute_reply": "2023-02-10T04:43:09.384712Z"
    },
    "origin_pos": 3,
    "tab": [
     "pytorch"
    ]
   },
   "outputs": [],
   "source": [
    "import torch"
   ]
  },
  {
   "attachments": {},
   "cell_type": "markdown",
   "id": "cd02f422",
   "metadata": {
    "origin_pos": 6
   },
   "source": [
    "## Scalars"
   ]
  },
  {
   "cell_type": "code",
   "execution_count": 2,
   "id": "0ce7076a",
   "metadata": {
    "execution": {
     "iopub.execute_input": "2023-02-10T04:43:09.405351Z",
     "iopub.status.busy": "2023-02-10T04:43:09.400475Z",
     "iopub.status.idle": "2023-02-10T04:43:09.431198Z",
     "shell.execute_reply": "2023-02-10T04:43:09.422088Z"
    },
    "origin_pos": 8,
    "tab": [
     "pytorch"
    ]
   },
   "outputs": [
    {
     "data": {
      "text/plain": [
       "(tensor(5.), tensor(6.), tensor(1.5000), tensor(9.))"
      ]
     },
     "execution_count": 2,
     "metadata": {},
     "output_type": "execute_result"
    }
   ],
   "source": [
    "x = torch.tensor(3.0)\n",
    "y = torch.tensor(2.0)\n",
    "\n",
    "x + y, x * y, x / y, x**y"
   ]
  },
  {
   "attachments": {},
   "cell_type": "markdown",
   "id": "bc665dba",
   "metadata": {
    "origin_pos": 11
   },
   "source": [
    "## Vectors"
   ]
  },
  {
   "cell_type": "code",
   "execution_count": 3,
   "id": "cc54895d",
   "metadata": {
    "execution": {
     "iopub.execute_input": "2023-02-10T04:43:09.435603Z",
     "iopub.status.busy": "2023-02-10T04:43:09.435008Z",
     "iopub.status.idle": "2023-02-10T04:43:09.448281Z",
     "shell.execute_reply": "2023-02-10T04:43:09.446032Z"
    },
    "origin_pos": 13,
    "tab": [
     "pytorch"
    ]
   },
   "outputs": [
    {
     "data": {
      "text/plain": [
       "tensor([0, 1, 2])"
      ]
     },
     "execution_count": 3,
     "metadata": {},
     "output_type": "execute_result"
    }
   ],
   "source": [
    "x = torch.arange(3)\n",
    "x"
   ]
  },
  {
   "cell_type": "code",
   "execution_count": 4,
   "id": "9d22d360",
   "metadata": {
    "execution": {
     "iopub.execute_input": "2023-02-10T04:43:09.452637Z",
     "iopub.status.busy": "2023-02-10T04:43:09.451851Z",
     "iopub.status.idle": "2023-02-10T04:43:09.466778Z",
     "shell.execute_reply": "2023-02-10T04:43:09.465749Z"
    },
    "origin_pos": 17,
    "tab": [
     "pytorch"
    ]
   },
   "outputs": [
    {
     "data": {
      "text/plain": [
       "tensor(2)"
      ]
     },
     "execution_count": 4,
     "metadata": {},
     "output_type": "execute_result"
    }
   ],
   "source": [
    "x[2]"
   ]
  },
  {
   "cell_type": "code",
   "execution_count": 5,
   "id": "a7b4714b",
   "metadata": {
    "execution": {
     "iopub.execute_input": "2023-02-10T04:43:09.474115Z",
     "iopub.status.busy": "2023-02-10T04:43:09.473538Z",
     "iopub.status.idle": "2023-02-10T04:43:09.484660Z",
     "shell.execute_reply": "2023-02-10T04:43:09.483722Z"
    },
    "origin_pos": 19,
    "tab": [
     "pytorch"
    ]
   },
   "outputs": [
    {
     "data": {
      "text/plain": [
       "3"
      ]
     },
     "execution_count": 5,
     "metadata": {},
     "output_type": "execute_result"
    }
   ],
   "source": [
    "len(x)"
   ]
  },
  {
   "cell_type": "code",
   "execution_count": 6,
   "id": "e11fdc38",
   "metadata": {
    "execution": {
     "iopub.execute_input": "2023-02-10T04:43:09.497341Z",
     "iopub.status.busy": "2023-02-10T04:43:09.494600Z",
     "iopub.status.idle": "2023-02-10T04:43:09.513348Z",
     "shell.execute_reply": "2023-02-10T04:43:09.509894Z"
    },
    "origin_pos": 21,
    "tab": [
     "pytorch"
    ]
   },
   "outputs": [
    {
     "data": {
      "text/plain": [
       "torch.Size([3])"
      ]
     },
     "execution_count": 6,
     "metadata": {},
     "output_type": "execute_result"
    }
   ],
   "source": [
    "x.shape"
   ]
  },
  {
   "attachments": {},
   "cell_type": "markdown",
   "id": "0d8fc1f2",
   "metadata": {
    "origin_pos": 22
   },
   "source": [
    "\n",
    "\n",
    "\n",
    "## Matrices\n"
   ]
  },
  {
   "cell_type": "code",
   "execution_count": 7,
   "id": "a1ea4952",
   "metadata": {
    "execution": {
     "iopub.execute_input": "2023-02-10T04:43:09.522539Z",
     "iopub.status.busy": "2023-02-10T04:43:09.519139Z",
     "iopub.status.idle": "2023-02-10T04:43:09.541163Z",
     "shell.execute_reply": "2023-02-10T04:43:09.532731Z"
    },
    "origin_pos": 24,
    "tab": [
     "pytorch"
    ]
   },
   "outputs": [
    {
     "data": {
      "text/plain": [
       "tensor([[0, 1],\n",
       "        [2, 3],\n",
       "        [4, 5]])"
      ]
     },
     "execution_count": 7,
     "metadata": {},
     "output_type": "execute_result"
    }
   ],
   "source": [
    "A = torch.arange(6).reshape(3, 2)\n",
    "A"
   ]
  },
  {
   "cell_type": "code",
   "execution_count": 8,
   "id": "ccfcdfd9",
   "metadata": {
    "execution": {
     "iopub.execute_input": "2023-02-10T04:43:09.548191Z",
     "iopub.status.busy": "2023-02-10T04:43:09.547827Z",
     "iopub.status.idle": "2023-02-10T04:43:09.571288Z",
     "shell.execute_reply": "2023-02-10T04:43:09.570452Z"
    },
    "origin_pos": 28,
    "tab": [
     "pytorch"
    ]
   },
   "outputs": [
    {
     "data": {
      "text/plain": [
       "tensor([[0, 2, 4],\n",
       "        [1, 3, 5]])"
      ]
     },
     "execution_count": 8,
     "metadata": {},
     "output_type": "execute_result"
    }
   ],
   "source": [
    "A.T"
   ]
  },
  {
   "cell_type": "code",
   "execution_count": 9,
   "id": "e992c013",
   "metadata": {
    "execution": {
     "iopub.execute_input": "2023-02-10T04:43:09.575384Z",
     "iopub.status.busy": "2023-02-10T04:43:09.574557Z",
     "iopub.status.idle": "2023-02-10T04:43:09.583352Z",
     "shell.execute_reply": "2023-02-10T04:43:09.582564Z"
    },
    "origin_pos": 32,
    "tab": [
     "pytorch"
    ]
   },
   "outputs": [
    {
     "data": {
      "text/plain": [
       "tensor([[True, True, True],\n",
       "        [True, True, True],\n",
       "        [True, True, True]])"
      ]
     },
     "execution_count": 9,
     "metadata": {},
     "output_type": "execute_result"
    }
   ],
   "source": [
    "A = torch.tensor([[1, 2, 3], [2, 0, 4], [3, 4, 5]])\n",
    "A == A.T"
   ]
  },
  {
   "attachments": {},
   "cell_type": "markdown",
   "id": "0ce705cc",
   "metadata": {
    "origin_pos": 35
   },
   "source": [
    "\n",
    "\n",
    "\n",
    "\n",
    "## Tensors\n"
   ]
  },
  {
   "cell_type": "code",
   "execution_count": 10,
   "id": "d9b5c3cc",
   "metadata": {
    "execution": {
     "iopub.execute_input": "2023-02-10T04:43:09.587081Z",
     "iopub.status.busy": "2023-02-10T04:43:09.586509Z",
     "iopub.status.idle": "2023-02-10T04:43:09.607574Z",
     "shell.execute_reply": "2023-02-10T04:43:09.596531Z"
    },
    "origin_pos": 37,
    "tab": [
     "pytorch"
    ]
   },
   "outputs": [
    {
     "data": {
      "text/plain": [
       "tensor([[[ 0,  1,  2,  3],\n",
       "         [ 4,  5,  6,  7],\n",
       "         [ 8,  9, 10, 11]],\n",
       "\n",
       "        [[12, 13, 14, 15],\n",
       "         [16, 17, 18, 19],\n",
       "         [20, 21, 22, 23]]])"
      ]
     },
     "execution_count": 10,
     "metadata": {},
     "output_type": "execute_result"
    }
   ],
   "source": [
    "torch.arange(24).reshape(2, 3, 4)"
   ]
  },
  {
   "attachments": {},
   "cell_type": "markdown",
   "id": "0daacb2a",
   "metadata": {
    "origin_pos": 40
   },
   "source": [
    "## Basic Properties of Tensor Arithmetic\n"
   ]
  },
  {
   "cell_type": "code",
   "execution_count": 11,
   "id": "30ac56f3",
   "metadata": {
    "execution": {
     "iopub.execute_input": "2023-02-10T04:43:09.612428Z",
     "iopub.status.busy": "2023-02-10T04:43:09.611839Z",
     "iopub.status.idle": "2023-02-10T04:43:09.633303Z",
     "shell.execute_reply": "2023-02-10T04:43:09.632476Z"
    },
    "origin_pos": 42,
    "tab": [
     "pytorch"
    ]
   },
   "outputs": [
    {
     "data": {
      "text/plain": [
       "(tensor([[0., 1., 2.],\n",
       "         [3., 4., 5.]]),\n",
       " tensor([[ 0.,  2.,  4.],\n",
       "         [ 6.,  8., 10.]]))"
      ]
     },
     "execution_count": 11,
     "metadata": {},
     "output_type": "execute_result"
    }
   ],
   "source": [
    "A = torch.arange(6, dtype=torch.float32).reshape(2, 3)\n",
    "B = A.clone()  # Assign a copy of A to B by allocating new memory\n",
    "A, A + B"
   ]
  },
  {
   "cell_type": "code",
   "execution_count": 12,
   "id": "11e761f4",
   "metadata": {
    "execution": {
     "iopub.execute_input": "2023-02-10T04:43:09.638728Z",
     "iopub.status.busy": "2023-02-10T04:43:09.636388Z",
     "iopub.status.idle": "2023-02-10T04:43:09.648829Z",
     "shell.execute_reply": "2023-02-10T04:43:09.647990Z"
    },
    "origin_pos": 46,
    "tab": [
     "pytorch"
    ]
   },
   "outputs": [
    {
     "data": {
      "text/plain": [
       "tensor([[ 0.,  1.,  4.],\n",
       "        [ 9., 16., 25.]])"
      ]
     },
     "execution_count": 12,
     "metadata": {},
     "output_type": "execute_result"
    }
   ],
   "source": [
    "A * B"
   ]
  },
  {
   "cell_type": "code",
   "execution_count": 13,
   "id": "c2da5233",
   "metadata": {
    "execution": {
     "iopub.execute_input": "2023-02-10T04:43:09.655429Z",
     "iopub.status.busy": "2023-02-10T04:43:09.654794Z",
     "iopub.status.idle": "2023-02-10T04:43:09.672534Z",
     "shell.execute_reply": "2023-02-10T04:43:09.662047Z"
    },
    "origin_pos": 49,
    "tab": [
     "pytorch"
    ]
   },
   "outputs": [
    {
     "data": {
      "text/plain": [
       "(tensor([[[ 2,  3,  4,  5],\n",
       "          [ 6,  7,  8,  9],\n",
       "          [10, 11, 12, 13]],\n",
       " \n",
       "         [[14, 15, 16, 17],\n",
       "          [18, 19, 20, 21],\n",
       "          [22, 23, 24, 25]]]),\n",
       " torch.Size([2, 3, 4]))"
      ]
     },
     "execution_count": 13,
     "metadata": {},
     "output_type": "execute_result"
    }
   ],
   "source": [
    "a = 2\n",
    "X = torch.arange(24).reshape(2, 3, 4)\n",
    "a + X, (a * X).shape"
   ]
  },
  {
   "attachments": {},
   "cell_type": "markdown",
   "id": "642a0b23",
   "metadata": {
    "origin_pos": 52
   },
   "source": [
    "## Reduction\n",
    ":label:`subsec_lin-alg-reduction`\n"
   ]
  },
  {
   "cell_type": "code",
   "execution_count": 14,
   "id": "f25c98b7",
   "metadata": {
    "execution": {
     "iopub.execute_input": "2023-02-10T04:43:09.678661Z",
     "iopub.status.busy": "2023-02-10T04:43:09.676173Z",
     "iopub.status.idle": "2023-02-10T04:43:09.700888Z",
     "shell.execute_reply": "2023-02-10T04:43:09.694750Z"
    },
    "origin_pos": 54,
    "tab": [
     "pytorch"
    ]
   },
   "outputs": [
    {
     "data": {
      "text/plain": [
       "(tensor([0., 1., 2.]), tensor(3.))"
      ]
     },
     "execution_count": 14,
     "metadata": {},
     "output_type": "execute_result"
    }
   ],
   "source": [
    "x = torch.arange(3, dtype=torch.float32)\n",
    "x, x.sum()"
   ]
  },
  {
   "cell_type": "code",
   "execution_count": 15,
   "id": "a63ac705",
   "metadata": {
    "execution": {
     "iopub.execute_input": "2023-02-10T04:43:09.714111Z",
     "iopub.status.busy": "2023-02-10T04:43:09.706728Z",
     "iopub.status.idle": "2023-02-10T04:43:09.736834Z",
     "shell.execute_reply": "2023-02-10T04:43:09.730540Z"
    },
    "origin_pos": 58,
    "tab": [
     "pytorch"
    ]
   },
   "outputs": [
    {
     "data": {
      "text/plain": [
       "(torch.Size([2, 3]), tensor(15.))"
      ]
     },
     "execution_count": 15,
     "metadata": {},
     "output_type": "execute_result"
    }
   ],
   "source": [
    "A.shape, A.sum()"
   ]
  },
  {
   "cell_type": "code",
   "execution_count": 18,
   "id": "5105ae5f",
   "metadata": {
    "execution": {
     "iopub.execute_input": "2023-02-10T04:43:09.745095Z",
     "iopub.status.busy": "2023-02-10T04:43:09.741822Z",
     "iopub.status.idle": "2023-02-10T04:43:09.759514Z",
     "shell.execute_reply": "2023-02-10T04:43:09.756458Z"
    },
    "origin_pos": 61,
    "tab": [
     "pytorch"
    ]
   },
   "outputs": [
    {
     "name": "stdout",
     "output_type": "stream",
     "text": [
      "tensor([[0., 1., 2.],\n",
      "        [3., 4., 5.]])\n",
      "tensor([3., 5., 7.])\n"
     ]
    }
   ],
   "source": [
    "A.shape, A.sum(axis=0).shape\n",
    "print(A)\n",
    "print(A.sum(axis = 0))"
   ]
  },
  {
   "cell_type": "code",
   "execution_count": 19,
   "id": "abb04820",
   "metadata": {
    "execution": {
     "iopub.execute_input": "2023-02-10T04:43:09.763210Z",
     "iopub.status.busy": "2023-02-10T04:43:09.762890Z",
     "iopub.status.idle": "2023-02-10T04:43:09.779757Z",
     "shell.execute_reply": "2023-02-10T04:43:09.774594Z"
    },
    "origin_pos": 64,
    "tab": [
     "pytorch"
    ]
   },
   "outputs": [
    {
     "data": {
      "text/plain": [
       "(torch.Size([2, 3]), torch.Size([2]))"
      ]
     },
     "execution_count": 19,
     "metadata": {},
     "output_type": "execute_result"
    }
   ],
   "source": [
    "A.shape, A.sum(axis=1).shape"
   ]
  },
  {
   "cell_type": "code",
   "execution_count": 18,
   "id": "8820f115",
   "metadata": {
    "execution": {
     "iopub.execute_input": "2023-02-10T04:43:09.800109Z",
     "iopub.status.busy": "2023-02-10T04:43:09.796287Z",
     "iopub.status.idle": "2023-02-10T04:43:09.817425Z",
     "shell.execute_reply": "2023-02-10T04:43:09.808926Z"
    },
    "origin_pos": 67,
    "tab": [
     "pytorch"
    ]
   },
   "outputs": [
    {
     "data": {
      "text/plain": [
       "tensor(True)"
      ]
     },
     "execution_count": 18,
     "metadata": {},
     "output_type": "execute_result"
    }
   ],
   "source": [
    "A.sum(axis=[0, 1]) == A.sum() # Same as A.sum()"
   ]
  },
  {
   "cell_type": "code",
   "execution_count": 19,
   "id": "80a02ce8",
   "metadata": {
    "execution": {
     "iopub.execute_input": "2023-02-10T04:43:09.823797Z",
     "iopub.status.busy": "2023-02-10T04:43:09.823480Z",
     "iopub.status.idle": "2023-02-10T04:43:09.841011Z",
     "shell.execute_reply": "2023-02-10T04:43:09.835543Z"
    },
    "origin_pos": 71,
    "tab": [
     "pytorch"
    ]
   },
   "outputs": [
    {
     "data": {
      "text/plain": [
       "(tensor(2.5000), tensor(2.5000))"
      ]
     },
     "execution_count": 19,
     "metadata": {},
     "output_type": "execute_result"
    }
   ],
   "source": [
    "A.mean(), A.sum() / A.numel()"
   ]
  },
  {
   "cell_type": "code",
   "execution_count": 20,
   "id": "79193e6d",
   "metadata": {
    "execution": {
     "iopub.execute_input": "2023-02-10T04:43:09.846242Z",
     "iopub.status.busy": "2023-02-10T04:43:09.845923Z",
     "iopub.status.idle": "2023-02-10T04:43:09.862274Z",
     "shell.execute_reply": "2023-02-10T04:43:09.861271Z"
    },
    "origin_pos": 74,
    "tab": [
     "pytorch"
    ]
   },
   "outputs": [
    {
     "data": {
      "text/plain": [
       "(tensor([1.5000, 2.5000, 3.5000]), tensor([1.5000, 2.5000, 3.5000]))"
      ]
     },
     "execution_count": 20,
     "metadata": {},
     "output_type": "execute_result"
    }
   ],
   "source": [
    "A.mean(axis=0), A.sum(axis=0) / A.shape[0]"
   ]
  },
  {
   "attachments": {},
   "cell_type": "markdown",
   "id": "0716db3e",
   "metadata": {
    "origin_pos": 76
   },
   "source": [
    "## Non-Reduction Sum\n",
    ":label:`subsec_lin-alg-non-reduction`\n"
   ]
  },
  {
   "cell_type": "code",
   "execution_count": 21,
   "id": "ccb7262c",
   "metadata": {
    "execution": {
     "iopub.execute_input": "2023-02-10T04:43:09.867160Z",
     "iopub.status.busy": "2023-02-10T04:43:09.866576Z",
     "iopub.status.idle": "2023-02-10T04:43:09.892440Z",
     "shell.execute_reply": "2023-02-10T04:43:09.887995Z"
    },
    "origin_pos": 77,
    "tab": [
     "pytorch"
    ]
   },
   "outputs": [
    {
     "data": {
      "text/plain": [
       "(tensor([[ 3.],\n",
       "         [12.]]),\n",
       " torch.Size([2, 1]))"
      ]
     },
     "execution_count": 21,
     "metadata": {},
     "output_type": "execute_result"
    }
   ],
   "source": [
    "sum_A = A.sum(axis=1, keepdims=True)\n",
    "sum_A, sum_A.shape"
   ]
  },
  {
   "cell_type": "code",
   "execution_count": 22,
   "id": "88e48f63",
   "metadata": {
    "execution": {
     "iopub.execute_input": "2023-02-10T04:43:09.897444Z",
     "iopub.status.busy": "2023-02-10T04:43:09.896620Z",
     "iopub.status.idle": "2023-02-10T04:43:09.908231Z",
     "shell.execute_reply": "2023-02-10T04:43:09.907166Z"
    },
    "origin_pos": 80,
    "tab": [
     "pytorch"
    ]
   },
   "outputs": [
    {
     "data": {
      "text/plain": [
       "tensor([[0.0000, 0.3333, 0.6667],\n",
       "        [0.2500, 0.3333, 0.4167]])"
      ]
     },
     "execution_count": 22,
     "metadata": {},
     "output_type": "execute_result"
    }
   ],
   "source": [
    "A / sum_A"
   ]
  },
  {
   "cell_type": "code",
   "execution_count": 23,
   "id": "f942be83",
   "metadata": {
    "execution": {
     "iopub.execute_input": "2023-02-10T04:43:09.912520Z",
     "iopub.status.busy": "2023-02-10T04:43:09.912209Z",
     "iopub.status.idle": "2023-02-10T04:43:09.932069Z",
     "shell.execute_reply": "2023-02-10T04:43:09.929039Z"
    },
    "origin_pos": 82,
    "tab": [
     "pytorch"
    ]
   },
   "outputs": [
    {
     "data": {
      "text/plain": [
       "tensor([[0., 1., 2.],\n",
       "        [3., 5., 7.]])"
      ]
     },
     "execution_count": 23,
     "metadata": {},
     "output_type": "execute_result"
    }
   ],
   "source": [
    "A.cumsum(axis=0)"
   ]
  },
  {
   "attachments": {},
   "cell_type": "markdown",
   "id": "9432a8cc",
   "metadata": {
    "origin_pos": 84
   },
   "source": [
    "## Dot Products"
   ]
  },
  {
   "cell_type": "code",
   "execution_count": 24,
   "id": "9284767a",
   "metadata": {
    "execution": {
     "iopub.execute_input": "2023-02-10T04:43:09.936333Z",
     "iopub.status.busy": "2023-02-10T04:43:09.935713Z",
     "iopub.status.idle": "2023-02-10T04:43:09.950173Z",
     "shell.execute_reply": "2023-02-10T04:43:09.949076Z"
    },
    "origin_pos": 86,
    "tab": [
     "pytorch"
    ]
   },
   "outputs": [
    {
     "data": {
      "text/plain": [
       "(tensor([0., 1., 2.]), tensor([1., 1., 1.]), tensor(3.))"
      ]
     },
     "execution_count": 24,
     "metadata": {},
     "output_type": "execute_result"
    }
   ],
   "source": [
    "y = torch.ones(3, dtype = torch.float32)\n",
    "x, y, torch.dot(x, y)"
   ]
  },
  {
   "cell_type": "code",
   "execution_count": 25,
   "id": "5ee53487",
   "metadata": {
    "execution": {
     "iopub.execute_input": "2023-02-10T04:43:09.954684Z",
     "iopub.status.busy": "2023-02-10T04:43:09.953708Z",
     "iopub.status.idle": "2023-02-10T04:43:09.963037Z",
     "shell.execute_reply": "2023-02-10T04:43:09.962079Z"
    },
    "origin_pos": 91,
    "tab": [
     "pytorch"
    ]
   },
   "outputs": [
    {
     "data": {
      "text/plain": [
       "tensor(3.)"
      ]
     },
     "execution_count": 25,
     "metadata": {},
     "output_type": "execute_result"
    }
   ],
   "source": [
    "torch.sum(x * y)"
   ]
  },
  {
   "attachments": {},
   "cell_type": "markdown",
   "id": "82659771",
   "metadata": {
    "origin_pos": 94
   },
   "source": [
    "\n",
    "\n",
    "## Matrix-Vector Products\n"
   ]
  },
  {
   "cell_type": "code",
   "execution_count": 26,
   "id": "6d28f5fe",
   "metadata": {
    "execution": {
     "iopub.execute_input": "2023-02-10T04:43:09.978568Z",
     "iopub.status.busy": "2023-02-10T04:43:09.975816Z",
     "iopub.status.idle": "2023-02-10T04:43:09.993670Z",
     "shell.execute_reply": "2023-02-10T04:43:09.992841Z"
    },
    "origin_pos": 99,
    "tab": [
     "pytorch"
    ]
   },
   "outputs": [
    {
     "data": {
      "text/plain": [
       "(torch.Size([2, 3]), torch.Size([3]), tensor([ 5., 14.]), tensor([ 5., 14.]))"
      ]
     },
     "execution_count": 26,
     "metadata": {},
     "output_type": "execute_result"
    }
   ],
   "source": [
    "A.shape, x.shape, torch.mv(A, x), A@x"
   ]
  },
  {
   "attachments": {},
   "cell_type": "markdown",
   "id": "0134410c",
   "metadata": {
    "origin_pos": 102
   },
   "source": [
    "## Matrix-Matrix Multiplication\n"
   ]
  },
  {
   "cell_type": "code",
   "execution_count": 27,
   "id": "11e4a002",
   "metadata": {
    "execution": {
     "iopub.execute_input": "2023-02-10T04:43:09.997909Z",
     "iopub.status.busy": "2023-02-10T04:43:09.997392Z",
     "iopub.status.idle": "2023-02-10T04:43:10.015366Z",
     "shell.execute_reply": "2023-02-10T04:43:10.010781Z"
    },
    "origin_pos": 104,
    "tab": [
     "pytorch"
    ]
   },
   "outputs": [
    {
     "data": {
      "text/plain": [
       "(tensor([[ 3.,  3.,  3.,  3.],\n",
       "         [12., 12., 12., 12.]]),\n",
       " tensor([[ 3.,  3.,  3.,  3.],\n",
       "         [12., 12., 12., 12.]]))"
      ]
     },
     "execution_count": 27,
     "metadata": {},
     "output_type": "execute_result"
    }
   ],
   "source": [
    "B = torch.ones(3, 4)\n",
    "torch.mm(A, B), A@B"
   ]
  },
  {
   "attachments": {},
   "cell_type": "markdown",
   "id": "66b93a52",
   "metadata": {
    "origin_pos": 107
   },
   "source": [
    "\n",
    "\n",
    "## Norms\n",
    ":label:`subsec_lin-algebra-norms`\n",
    "\n"
   ]
  },
  {
   "cell_type": "code",
   "execution_count": 28,
   "id": "1592538d",
   "metadata": {
    "execution": {
     "iopub.execute_input": "2023-02-10T04:43:10.020208Z",
     "iopub.status.busy": "2023-02-10T04:43:10.018213Z",
     "iopub.status.idle": "2023-02-10T04:43:10.037592Z",
     "shell.execute_reply": "2023-02-10T04:43:10.034612Z"
    },
    "origin_pos": 109,
    "tab": [
     "pytorch"
    ]
   },
   "outputs": [
    {
     "data": {
      "text/plain": [
       "tensor(5.)"
      ]
     },
     "execution_count": 28,
     "metadata": {},
     "output_type": "execute_result"
    }
   ],
   "source": [
    "u = torch.tensor([3.0, -4.0])\n",
    "torch.norm(u)"
   ]
  },
  {
   "cell_type": "code",
   "execution_count": 29,
   "id": "d3e8deaa",
   "metadata": {
    "execution": {
     "iopub.execute_input": "2023-02-10T04:43:10.047840Z",
     "iopub.status.busy": "2023-02-10T04:43:10.044656Z",
     "iopub.status.idle": "2023-02-10T04:43:10.058843Z",
     "shell.execute_reply": "2023-02-10T04:43:10.057553Z"
    },
    "origin_pos": 114,
    "tab": [
     "pytorch"
    ]
   },
   "outputs": [
    {
     "data": {
      "text/plain": [
       "tensor(7.)"
      ]
     },
     "execution_count": 29,
     "metadata": {},
     "output_type": "execute_result"
    }
   ],
   "source": [
    "torch.abs(u).sum()"
   ]
  },
  {
   "cell_type": "code",
   "execution_count": 30,
   "id": "bceb62aa",
   "metadata": {
    "execution": {
     "iopub.execute_input": "2023-02-10T04:43:10.066146Z",
     "iopub.status.busy": "2023-02-10T04:43:10.063019Z",
     "iopub.status.idle": "2023-02-10T04:43:10.079960Z",
     "shell.execute_reply": "2023-02-10T04:43:10.077528Z"
    },
    "origin_pos": 119,
    "tab": [
     "pytorch"
    ]
   },
   "outputs": [
    {
     "data": {
      "text/plain": [
       "tensor(6.)"
      ]
     },
     "execution_count": 30,
     "metadata": {},
     "output_type": "execute_result"
    }
   ],
   "source": [
    "torch.norm(torch.ones((4, 9)))"
   ]
  }
 ],
 "metadata": {
  "kernelspec": {
   "display_name": "torch-gpu",
   "language": "python",
   "name": "python3"
  },
  "language_info": {
   "codemirror_mode": {
    "name": "ipython",
    "version": 3
   },
   "file_extension": ".py",
   "mimetype": "text/x-python",
   "name": "python",
   "nbconvert_exporter": "python",
   "pygments_lexer": "ipython3",
   "version": "3.8.16"
  }
 },
 "nbformat": 4,
 "nbformat_minor": 5
}
