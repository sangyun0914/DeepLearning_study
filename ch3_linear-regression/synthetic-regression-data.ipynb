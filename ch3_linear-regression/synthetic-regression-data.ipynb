{
 "cells": [
  {
   "attachments": {},
   "cell_type": "markdown",
   "id": "1f853a94",
   "metadata": {
    "origin_pos": 1
   },
   "source": [
    "# Synthetic Regression Data\n",
    ":label:`sec_synthetic-regression-data`\n",
    "\n",
    "## Section Summary\n",
    "This section discusses how synthetic data can be useful for evaluating the properties of machine learning algorithms, and provides an example of generating synthetic regression data. The code illustrates the power of Python's object-oriented design.\n"
   ]
  },
  {
   "cell_type": "code",
   "execution_count": 1,
   "id": "62d81e18",
   "metadata": {
    "execution": {
     "iopub.execute_input": "2023-02-10T05:17:06.809094Z",
     "iopub.status.busy": "2023-02-10T05:17:06.808763Z",
     "iopub.status.idle": "2023-02-10T05:17:09.775944Z",
     "shell.execute_reply": "2023-02-10T05:17:09.767226Z"
    },
    "origin_pos": 3,
    "tab": [
     "pytorch"
    ]
   },
   "outputs": [],
   "source": [
    "%matplotlib inline\n",
    "import random\n",
    "import torch\n",
    "from d2l import torch as d2l"
   ]
  },
  {
   "attachments": {},
   "cell_type": "markdown",
   "id": "a490aca9",
   "metadata": {
    "origin_pos": 6
   },
   "source": [
    "## Generating the Dataset\n",
    "\n"
   ]
  },
  {
   "cell_type": "code",
   "execution_count": 2,
   "id": "a731edcb",
   "metadata": {
    "execution": {
     "iopub.execute_input": "2023-02-10T05:17:09.786838Z",
     "iopub.status.busy": "2023-02-10T05:17:09.783558Z",
     "iopub.status.idle": "2023-02-10T05:17:09.798140Z",
     "shell.execute_reply": "2023-02-10T05:17:09.793642Z"
    },
    "origin_pos": 7,
    "tab": [
     "pytorch"
    ]
   },
   "outputs": [],
   "source": [
    "class SyntheticRegressionData(d2l.DataModule):  #@save\n",
    "    \"\"\"Synthetic data for linear regression.\"\"\"\n",
    "    def __init__(self, w, b, noise=0.01, num_train=1000, num_val=1000,\n",
    "                 batch_size=32):\n",
    "        super().__init__()\n",
    "        self.save_hyperparameters()\n",
    "        n = num_train + num_val\n",
    "        self.X = torch.randn(n, len(w))\n",
    "        noise = torch.randn(n, 1) * noise\n",
    "        self.y = torch.matmul(self.X, w.reshape((-1, 1))) + b + noise"
   ]
  },
  {
   "cell_type": "code",
   "execution_count": 3,
   "id": "4b4f853f",
   "metadata": {
    "execution": {
     "iopub.execute_input": "2023-02-10T05:17:09.805830Z",
     "iopub.status.busy": "2023-02-10T05:17:09.803638Z",
     "iopub.status.idle": "2023-02-10T05:17:09.835486Z",
     "shell.execute_reply": "2023-02-10T05:17:09.834639Z"
    },
    "origin_pos": 9,
    "tab": [
     "pytorch"
    ]
   },
   "outputs": [],
   "source": [
    "data = SyntheticRegressionData(w=torch.tensor([2, -3.4]), b=4.2)"
   ]
  },
  {
   "cell_type": "code",
   "execution_count": 4,
   "id": "44a92bc5",
   "metadata": {
    "execution": {
     "iopub.execute_input": "2023-02-10T05:17:09.840386Z",
     "iopub.status.busy": "2023-02-10T05:17:09.839182Z",
     "iopub.status.idle": "2023-02-10T05:17:09.850904Z",
     "shell.execute_reply": "2023-02-10T05:17:09.849605Z"
    },
    "origin_pos": 11,
    "tab": [
     "pytorch"
    ]
   },
   "outputs": [
    {
     "name": "stdout",
     "output_type": "stream",
     "text": [
      "features: tensor([0.8735, 0.8700]) \n",
      "label: tensor([2.9758])\n"
     ]
    }
   ],
   "source": [
    "print('features:', data.X[0],'\\nlabel:', data.y[0])"
   ]
  },
  {
   "attachments": {},
   "cell_type": "markdown",
   "id": "5b127139",
   "metadata": {
    "origin_pos": 12
   },
   "source": [
    "## Reading the Dataset\n"
   ]
  },
  {
   "cell_type": "code",
   "execution_count": 5,
   "id": "5b0af353",
   "metadata": {
    "execution": {
     "iopub.execute_input": "2023-02-10T05:17:09.858476Z",
     "iopub.status.busy": "2023-02-10T05:17:09.854738Z",
     "iopub.status.idle": "2023-02-10T05:17:09.868349Z",
     "shell.execute_reply": "2023-02-10T05:17:09.864880Z"
    },
    "origin_pos": 13,
    "tab": [
     "pytorch"
    ]
   },
   "outputs": [],
   "source": [
    "@d2l.add_to_class(SyntheticRegressionData)\n",
    "def get_dataloader(self, train):\n",
    "    if train:\n",
    "        indices = list(range(0, self.num_train))\n",
    "        # The examples are read in random order\n",
    "        random.shuffle(indices)\n",
    "    else:\n",
    "        indices = list(range(self.num_train, self.num_train+self.num_val))\n",
    "    for i in range(0, len(indices), self.batch_size):\n",
    "        batch_indices = torch.tensor(indices[i: i+self.batch_size])\n",
    "        yield self.X[batch_indices], self.y[batch_indices]"
   ]
  },
  {
   "cell_type": "code",
   "execution_count": 6,
   "id": "35d22815",
   "metadata": {
    "execution": {
     "iopub.execute_input": "2023-02-10T05:17:09.873402Z",
     "iopub.status.busy": "2023-02-10T05:17:09.872764Z",
     "iopub.status.idle": "2023-02-10T05:17:09.879527Z",
     "shell.execute_reply": "2023-02-10T05:17:09.878658Z"
    },
    "origin_pos": 15,
    "tab": [
     "pytorch"
    ]
   },
   "outputs": [
    {
     "name": "stdout",
     "output_type": "stream",
     "text": [
      "X shape: torch.Size([32, 2]) \n",
      "y shape: torch.Size([32, 1])\n"
     ]
    }
   ],
   "source": [
    "X, y = next(iter(data.train_dataloader()))\n",
    "print('X shape:', X.shape, '\\ny shape:', y.shape)"
   ]
  },
  {
   "attachments": {},
   "cell_type": "markdown",
   "id": "0d05b9a5",
   "metadata": {
    "origin_pos": 16
   },
   "source": [
    "\n",
    "\n",
    "## Concise Implementation of the Data Loader\n",
    "\n"
   ]
  },
  {
   "cell_type": "code",
   "execution_count": 7,
   "id": "a3eab3a3",
   "metadata": {
    "execution": {
     "iopub.execute_input": "2023-02-10T05:17:09.883423Z",
     "iopub.status.busy": "2023-02-10T05:17:09.882617Z",
     "iopub.status.idle": "2023-02-10T05:17:09.891709Z",
     "shell.execute_reply": "2023-02-10T05:17:09.890848Z"
    },
    "origin_pos": 18,
    "tab": [
     "pytorch"
    ]
   },
   "outputs": [],
   "source": [
    "@d2l.add_to_class(d2l.DataModule)  #@save\n",
    "def get_tensorloader(self, tensors, train, indices=slice(0, None)):\n",
    "    tensors = tuple(a[indices] for a in tensors)\n",
    "    dataset = torch.utils.data.TensorDataset(*tensors)\n",
    "    return torch.utils.data.DataLoader(dataset, self.batch_size,\n",
    "                                       shuffle=train)"
   ]
  },
  {
   "cell_type": "code",
   "execution_count": 8,
   "id": "a16f8bb5",
   "metadata": {
    "execution": {
     "iopub.execute_input": "2023-02-10T05:17:09.911551Z",
     "iopub.status.busy": "2023-02-10T05:17:09.907115Z",
     "iopub.status.idle": "2023-02-10T05:17:09.923439Z",
     "shell.execute_reply": "2023-02-10T05:17:09.922593Z"
    },
    "origin_pos": 19,
    "tab": [
     "pytorch"
    ]
   },
   "outputs": [],
   "source": [
    "@d2l.add_to_class(SyntheticRegressionData)  #@save\n",
    "def get_dataloader(self, train):\n",
    "    i = slice(0, self.num_train) if train else slice(self.num_train, None)\n",
    "    return self.get_tensorloader((self.X, self.y), train, i)"
   ]
  },
  {
   "cell_type": "code",
   "execution_count": 9,
   "id": "ab4e60ee",
   "metadata": {
    "attributes": {
     "classes": [],
     "id": "",
     "n": "4"
    },
    "execution": {
     "iopub.execute_input": "2023-02-10T05:17:09.927434Z",
     "iopub.status.busy": "2023-02-10T05:17:09.926594Z",
     "iopub.status.idle": "2023-02-10T05:17:09.935907Z",
     "shell.execute_reply": "2023-02-10T05:17:09.933146Z"
    },
    "origin_pos": 21,
    "tab": [
     "pytorch"
    ]
   },
   "outputs": [
    {
     "name": "stdout",
     "output_type": "stream",
     "text": [
      "X shape: torch.Size([32, 2]) \n",
      "y shape: torch.Size([32, 1])\n"
     ]
    }
   ],
   "source": [
    "X, y = next(iter(data.train_dataloader()))\n",
    "print('X shape:', X.shape, '\\ny shape:', y.shape)"
   ]
  },
  {
   "cell_type": "code",
   "execution_count": 10,
   "id": "0c219edf",
   "metadata": {
    "execution": {
     "iopub.execute_input": "2023-02-10T05:17:09.947823Z",
     "iopub.status.busy": "2023-02-10T05:17:09.941312Z",
     "iopub.status.idle": "2023-02-10T05:17:09.969195Z",
     "shell.execute_reply": "2023-02-10T05:17:09.968201Z"
    },
    "origin_pos": 23,
    "tab": [
     "pytorch"
    ]
   },
   "outputs": [
    {
     "data": {
      "text/plain": [
       "32"
      ]
     },
     "execution_count": 10,
     "metadata": {},
     "output_type": "execute_result"
    }
   ],
   "source": [
    "len(data.train_dataloader())"
   ]
  }
 ],
 "metadata": {
  "kernelspec": {
   "display_name": "torch-gpu",
   "language": "python",
   "name": "python3"
  },
  "language_info": {
   "codemirror_mode": {
    "name": "ipython",
    "version": 3
   },
   "file_extension": ".py",
   "mimetype": "text/x-python",
   "name": "python",
   "nbconvert_exporter": "python",
   "pygments_lexer": "ipython3",
   "version": "3.8.16"
  }
 },
 "nbformat": 4,
 "nbformat_minor": 5
}
