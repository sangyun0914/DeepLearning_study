{
 "cells": [
  {
   "attachments": {},
   "cell_type": "markdown",
   "id": "b006445f",
   "metadata": {
    "origin_pos": 1
   },
   "source": [
    "# Pooling\n",
    ":label:`sec_pooling`\n",
    "\n",
    "This section discusses pooling layers, which are used in convolutional neural networks (CNNs) for two purposes: to reduce the sensitivity of convolutional layers to location and to downsample representations spatially. Pooling operators consist of a fixed-shape window that is slid over all regions in the input according to its stride, computing a single output for each location traversed by the fixed-shape window. Pooling layers serve to ultimately learn a global representation while keeping all of the advantages of convolutional layers at the intermediate layers of processing. The section discusses two types of pooling: maximum pooling and average pooling, and describes how they work. \n",
    "\n",
    "\n",
    "\n",
    "\n"
   ]
  },
  {
   "cell_type": "code",
   "execution_count": 1,
   "id": "206f62a9",
   "metadata": {
    "execution": {
     "iopub.execute_input": "2023-02-10T05:24:30.882970Z",
     "iopub.status.busy": "2023-02-10T05:24:30.882655Z",
     "iopub.status.idle": "2023-02-10T05:24:33.778052Z",
     "shell.execute_reply": "2023-02-10T05:24:33.776568Z"
    },
    "origin_pos": 3,
    "tab": [
     "pytorch"
    ]
   },
   "outputs": [],
   "source": [
    "import torch\n",
    "from torch import nn\n",
    "from d2l import torch as d2l"
   ]
  },
  {
   "attachments": {},
   "cell_type": "markdown",
   "id": "acbbd4c6",
   "metadata": {
    "origin_pos": 5
   },
   "source": [
    "## Maximum Pooling and Average Pooling\n",
    "\n"
   ]
  },
  {
   "cell_type": "code",
   "execution_count": 2,
   "id": "b9ed9adf",
   "metadata": {
    "execution": {
     "iopub.execute_input": "2023-02-10T05:24:33.789087Z",
     "iopub.status.busy": "2023-02-10T05:24:33.783787Z",
     "iopub.status.idle": "2023-02-10T05:24:33.798688Z",
     "shell.execute_reply": "2023-02-10T05:24:33.797724Z"
    },
    "origin_pos": 6,
    "tab": [
     "pytorch"
    ]
   },
   "outputs": [],
   "source": [
    "def pool2d(X, pool_size, mode='max'):\n",
    "    p_h, p_w = pool_size\n",
    "    Y = torch.zeros((X.shape[0] - p_h + 1, X.shape[1] - p_w + 1))\n",
    "    for i in range(Y.shape[0]):\n",
    "        for j in range(Y.shape[1]):\n",
    "            if mode == 'max':\n",
    "                Y[i, j] = X[i: i + p_h, j: j + p_w].max()\n",
    "            elif mode == 'avg':\n",
    "                Y[i, j] = X[i: i + p_h, j: j + p_w].mean()\n",
    "    return Y"
   ]
  },
  {
   "cell_type": "code",
   "execution_count": 3,
   "id": "6e0395c5",
   "metadata": {
    "execution": {
     "iopub.execute_input": "2023-02-10T05:24:33.804630Z",
     "iopub.status.busy": "2023-02-10T05:24:33.804224Z",
     "iopub.status.idle": "2023-02-10T05:24:33.839925Z",
     "shell.execute_reply": "2023-02-10T05:24:33.839121Z"
    },
    "origin_pos": 10,
    "tab": [
     "pytorch"
    ]
   },
   "outputs": [
    {
     "data": {
      "text/plain": [
       "tensor([[4., 5.],\n",
       "        [7., 8.]])"
      ]
     },
     "execution_count": 3,
     "metadata": {},
     "output_type": "execute_result"
    }
   ],
   "source": [
    "X = torch.tensor([[0.0, 1.0, 2.0], [3.0, 4.0, 5.0], [6.0, 7.0, 8.0]])\n",
    "pool2d(X, (2, 2))"
   ]
  },
  {
   "cell_type": "code",
   "execution_count": 4,
   "id": "607f274a",
   "metadata": {
    "execution": {
     "iopub.execute_input": "2023-02-10T05:24:33.844396Z",
     "iopub.status.busy": "2023-02-10T05:24:33.843148Z",
     "iopub.status.idle": "2023-02-10T05:24:33.852115Z",
     "shell.execute_reply": "2023-02-10T05:24:33.851322Z"
    },
    "origin_pos": 12,
    "tab": [
     "pytorch"
    ]
   },
   "outputs": [
    {
     "data": {
      "text/plain": [
       "tensor([[2., 3.],\n",
       "        [5., 6.]])"
      ]
     },
     "execution_count": 4,
     "metadata": {},
     "output_type": "execute_result"
    }
   ],
   "source": [
    "pool2d(X, (2, 2), 'avg')"
   ]
  },
  {
   "attachments": {},
   "cell_type": "markdown",
   "id": "b2a76304",
   "metadata": {
    "origin_pos": 13
   },
   "source": [
    "## [**Padding and Stride**]\n"
   ]
  },
  {
   "cell_type": "code",
   "execution_count": 5,
   "id": "b7207226",
   "metadata": {
    "execution": {
     "iopub.execute_input": "2023-02-10T05:24:33.857032Z",
     "iopub.status.busy": "2023-02-10T05:24:33.855820Z",
     "iopub.status.idle": "2023-02-10T05:24:33.866003Z",
     "shell.execute_reply": "2023-02-10T05:24:33.865203Z"
    },
    "origin_pos": 15,
    "tab": [
     "pytorch"
    ]
   },
   "outputs": [
    {
     "data": {
      "text/plain": [
       "tensor([[[[ 0.,  1.,  2.,  3.],\n",
       "          [ 4.,  5.,  6.,  7.],\n",
       "          [ 8.,  9., 10., 11.],\n",
       "          [12., 13., 14., 15.]]]])"
      ]
     },
     "execution_count": 5,
     "metadata": {},
     "output_type": "execute_result"
    }
   ],
   "source": [
    "X = torch.arange(16, dtype=torch.float32).reshape((1, 1, 4, 4))\n",
    "X"
   ]
  },
  {
   "cell_type": "code",
   "execution_count": 6,
   "id": "74cf5054",
   "metadata": {
    "execution": {
     "iopub.execute_input": "2023-02-10T05:24:33.870869Z",
     "iopub.status.busy": "2023-02-10T05:24:33.869505Z",
     "iopub.status.idle": "2023-02-10T05:24:33.884406Z",
     "shell.execute_reply": "2023-02-10T05:24:33.877581Z"
    },
    "origin_pos": 19,
    "tab": [
     "pytorch"
    ]
   },
   "outputs": [
    {
     "data": {
      "text/plain": [
       "tensor([[[[10.]]]])"
      ]
     },
     "execution_count": 6,
     "metadata": {},
     "output_type": "execute_result"
    }
   ],
   "source": [
    "pool2d = nn.MaxPool2d(3)\n",
    "# Pooling has no model parameters, hence it needs no initialization\n",
    "pool2d(X)"
   ]
  },
  {
   "cell_type": "code",
   "execution_count": 7,
   "id": "59e61594",
   "metadata": {
    "execution": {
     "iopub.execute_input": "2023-02-10T05:24:33.890799Z",
     "iopub.status.busy": "2023-02-10T05:24:33.888035Z",
     "iopub.status.idle": "2023-02-10T05:24:33.918147Z",
     "shell.execute_reply": "2023-02-10T05:24:33.917350Z"
    },
    "origin_pos": 24,
    "tab": [
     "pytorch"
    ]
   },
   "outputs": [
    {
     "data": {
      "text/plain": [
       "tensor([[[[ 5.,  7.],\n",
       "          [13., 15.]]]])"
      ]
     },
     "execution_count": 7,
     "metadata": {},
     "output_type": "execute_result"
    }
   ],
   "source": [
    "pool2d = nn.MaxPool2d(3, padding=1, stride=2)\n",
    "pool2d(X)"
   ]
  },
  {
   "cell_type": "code",
   "execution_count": 8,
   "id": "24735ef5",
   "metadata": {
    "execution": {
     "iopub.execute_input": "2023-02-10T05:24:33.924231Z",
     "iopub.status.busy": "2023-02-10T05:24:33.923591Z",
     "iopub.status.idle": "2023-02-10T05:24:33.952248Z",
     "shell.execute_reply": "2023-02-10T05:24:33.949113Z"
    },
    "origin_pos": 29,
    "tab": [
     "pytorch"
    ]
   },
   "outputs": [
    {
     "data": {
      "text/plain": [
       "tensor([[[[ 5.,  7.],\n",
       "          [13., 15.]]]])"
      ]
     },
     "execution_count": 8,
     "metadata": {},
     "output_type": "execute_result"
    }
   ],
   "source": [
    "pool2d = nn.MaxPool2d((2, 3), stride=(2, 3), padding=(0, 1))\n",
    "pool2d(X)"
   ]
  },
  {
   "attachments": {},
   "cell_type": "markdown",
   "id": "3bc9ea27",
   "metadata": {
    "origin_pos": 32
   },
   "source": [
    "## Multiple Channels\n",
    "\n"
   ]
  },
  {
   "cell_type": "code",
   "execution_count": 9,
   "id": "4c100b86",
   "metadata": {
    "execution": {
     "iopub.execute_input": "2023-02-10T05:24:33.958800Z",
     "iopub.status.busy": "2023-02-10T05:24:33.957093Z",
     "iopub.status.idle": "2023-02-10T05:24:33.967262Z",
     "shell.execute_reply": "2023-02-10T05:24:33.966481Z"
    },
    "origin_pos": 34,
    "tab": [
     "pytorch"
    ]
   },
   "outputs": [
    {
     "data": {
      "text/plain": [
       "tensor([[[[ 0.,  1.,  2.,  3.],\n",
       "          [ 4.,  5.,  6.,  7.],\n",
       "          [ 8.,  9., 10., 11.],\n",
       "          [12., 13., 14., 15.]],\n",
       "\n",
       "         [[ 1.,  2.,  3.,  4.],\n",
       "          [ 5.,  6.,  7.,  8.],\n",
       "          [ 9., 10., 11., 12.],\n",
       "          [13., 14., 15., 16.]]]])"
      ]
     },
     "execution_count": 9,
     "metadata": {},
     "output_type": "execute_result"
    }
   ],
   "source": [
    "X = torch.cat((X, X + 1), 1)\n",
    "X"
   ]
  },
  {
   "cell_type": "code",
   "execution_count": 10,
   "id": "b3f5b4c6",
   "metadata": {
    "execution": {
     "iopub.execute_input": "2023-02-10T05:24:33.975204Z",
     "iopub.status.busy": "2023-02-10T05:24:33.972575Z",
     "iopub.status.idle": "2023-02-10T05:24:33.995189Z",
     "shell.execute_reply": "2023-02-10T05:24:33.994241Z"
    },
    "origin_pos": 38,
    "tab": [
     "pytorch"
    ]
   },
   "outputs": [
    {
     "data": {
      "text/plain": [
       "tensor([[[[ 5.,  7.],\n",
       "          [13., 15.]],\n",
       "\n",
       "         [[ 6.,  8.],\n",
       "          [14., 16.]]]])"
      ]
     },
     "execution_count": 10,
     "metadata": {},
     "output_type": "execute_result"
    }
   ],
   "source": [
    "pool2d = nn.MaxPool2d(3, padding=1, stride=2)\n",
    "pool2d(X)"
   ]
  }
 ],
 "metadata": {
  "kernelspec": {
   "display_name": "torch-gpu",
   "language": "python",
   "name": "python3"
  },
  "language_info": {
   "codemirror_mode": {
    "name": "ipython",
    "version": 3
   },
   "file_extension": ".py",
   "mimetype": "text/x-python",
   "name": "python",
   "nbconvert_exporter": "python",
   "pygments_lexer": "ipython3",
   "version": "3.8.16"
  }
 },
 "nbformat": 4,
 "nbformat_minor": 5
}
