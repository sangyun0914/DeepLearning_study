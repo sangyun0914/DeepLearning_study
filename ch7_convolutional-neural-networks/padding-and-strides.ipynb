{
 "cells": [
  {
   "attachments": {},
   "cell_type": "markdown",
   "id": "526c27d8",
   "metadata": {
    "origin_pos": 1
   },
   "source": [
    "# Padding and Stride\n",
    ":label:`sec_padding`\n",
    "\n",
    "## Section Summary\n",
    "This section is about padding and stride in convolutional neural networks. Padding and stride are techniques used to control the size of the output. Padding helps to avoid losing pixels on the perimeter of the image by adding extra pixels around the boundary of the input image. Strided convolutions help to reduce the dimensionality of the output, which can be useful in some cases.\n",
    "\n",
    "\n",
    "\n",
    "\n"
   ]
  },
  {
   "cell_type": "code",
   "execution_count": 1,
   "id": "11574b7f",
   "metadata": {
    "execution": {
     "iopub.execute_input": "2023-02-10T04:44:23.252758Z",
     "iopub.status.busy": "2023-02-10T04:44:23.252435Z",
     "iopub.status.idle": "2023-02-10T04:44:24.681910Z",
     "shell.execute_reply": "2023-02-10T04:44:24.680025Z"
    },
    "origin_pos": 3,
    "tab": [
     "pytorch"
    ]
   },
   "outputs": [],
   "source": [
    "import torch\n",
    "from torch import nn"
   ]
  },
  {
   "attachments": {},
   "cell_type": "markdown",
   "id": "79576ef0",
   "metadata": {
    "origin_pos": 6
   },
   "source": [
    "## Padding"
   ]
  },
  {
   "cell_type": "code",
   "execution_count": 2,
   "id": "89e5043a",
   "metadata": {
    "execution": {
     "iopub.execute_input": "2023-02-10T04:44:24.691504Z",
     "iopub.status.busy": "2023-02-10T04:44:24.689609Z",
     "iopub.status.idle": "2023-02-10T04:44:24.737467Z",
     "shell.execute_reply": "2023-02-10T04:44:24.736492Z"
    },
    "origin_pos": 8,
    "tab": [
     "pytorch"
    ]
   },
   "outputs": [
    {
     "name": "stderr",
     "output_type": "stream",
     "text": [
      "/Users/sangyun/miniconda3/envs/torch-gpu/lib/python3.8/site-packages/torch/nn/modules/lazy.py:180: UserWarning: Lazy modules are a new feature under heavy development so changes to the API or functionality can happen at any moment.\n",
      "  warnings.warn('Lazy modules are a new feature under heavy development '\n"
     ]
    },
    {
     "data": {
      "text/plain": [
       "torch.Size([8, 8])"
      ]
     },
     "execution_count": 2,
     "metadata": {},
     "output_type": "execute_result"
    }
   ],
   "source": [
    "# We define a helper function to calculate convolutions. It initializes the\n",
    "# convolutional layer weights and performs corresponding dimensionality\n",
    "# elevations and reductions on the input and output\n",
    "def comp_conv2d(conv2d, X):\n",
    "    # (1, 1) indicates that batch size and the number of channels are both 1\n",
    "    X = X.reshape((1, 1) + X.shape)\n",
    "    Y = conv2d(X)\n",
    "    # Strip the first two dimensions: examples and channels\n",
    "    return Y.reshape(Y.shape[2:])\n",
    "\n",
    "# 1 row and column is padded on either side, so a total of 2 rows or columns\n",
    "# are added\n",
    "conv2d = nn.LazyConv2d(1, kernel_size=3, padding=1)\n",
    "X = torch.rand(size=(8, 8))\n",
    "comp_conv2d(conv2d, X).shape"
   ]
  },
  {
   "cell_type": "code",
   "execution_count": 3,
   "id": "83910aa3",
   "metadata": {
    "execution": {
     "iopub.execute_input": "2023-02-10T04:44:24.742149Z",
     "iopub.status.busy": "2023-02-10T04:44:24.741266Z",
     "iopub.status.idle": "2023-02-10T04:44:24.765603Z",
     "shell.execute_reply": "2023-02-10T04:44:24.764542Z"
    },
    "origin_pos": 13,
    "tab": [
     "pytorch"
    ]
   },
   "outputs": [
    {
     "data": {
      "text/plain": [
       "torch.Size([8, 8])"
      ]
     },
     "execution_count": 3,
     "metadata": {},
     "output_type": "execute_result"
    }
   ],
   "source": [
    "# We use a convolution kernel with height 5 and width 3. The padding on either\n",
    "# side of the height and width are 2 and 1, respectively\n",
    "conv2d = nn.LazyConv2d(1, kernel_size=(5, 3), padding=(2, 1))\n",
    "comp_conv2d(conv2d, X).shape"
   ]
  },
  {
   "attachments": {},
   "cell_type": "markdown",
   "id": "3c013b6f",
   "metadata": {
    "origin_pos": 16
   },
   "source": [
    "## Stride\n"
   ]
  },
  {
   "cell_type": "code",
   "execution_count": 4,
   "id": "061d2ea6",
   "metadata": {
    "execution": {
     "iopub.execute_input": "2023-02-10T04:44:24.769677Z",
     "iopub.status.busy": "2023-02-10T04:44:24.769255Z",
     "iopub.status.idle": "2023-02-10T04:44:24.792724Z",
     "shell.execute_reply": "2023-02-10T04:44:24.791800Z"
    },
    "origin_pos": 18,
    "tab": [
     "pytorch"
    ]
   },
   "outputs": [
    {
     "data": {
      "text/plain": [
       "torch.Size([4, 4])"
      ]
     },
     "execution_count": 4,
     "metadata": {},
     "output_type": "execute_result"
    }
   ],
   "source": [
    "conv2d = nn.LazyConv2d(1, kernel_size=3, padding=1, stride=2)\n",
    "comp_conv2d(conv2d, X).shape"
   ]
  },
  {
   "cell_type": "code",
   "execution_count": 5,
   "id": "80ed2f23",
   "metadata": {
    "execution": {
     "iopub.execute_input": "2023-02-10T04:44:24.796918Z",
     "iopub.status.busy": "2023-02-10T04:44:24.796373Z",
     "iopub.status.idle": "2023-02-10T04:44:24.817470Z",
     "shell.execute_reply": "2023-02-10T04:44:24.816547Z"
    },
    "origin_pos": 23,
    "tab": [
     "pytorch"
    ]
   },
   "outputs": [
    {
     "data": {
      "text/plain": [
       "torch.Size([2, 2])"
      ]
     },
     "execution_count": 5,
     "metadata": {},
     "output_type": "execute_result"
    }
   ],
   "source": [
    "conv2d = nn.LazyConv2d(1, kernel_size=(3, 5), padding=(0, 1), stride=(3, 4))\n",
    "comp_conv2d(conv2d, X).shape"
   ]
  }
 ],
 "metadata": {
  "kernelspec": {
   "display_name": "torch-gpu",
   "language": "python",
   "name": "python3"
  },
  "language_info": {
   "codemirror_mode": {
    "name": "ipython",
    "version": 3
   },
   "file_extension": ".py",
   "mimetype": "text/x-python",
   "name": "python",
   "nbconvert_exporter": "python",
   "pygments_lexer": "ipython3",
   "version": "3.8.16"
  }
 },
 "nbformat": 4,
 "nbformat_minor": 5
}
