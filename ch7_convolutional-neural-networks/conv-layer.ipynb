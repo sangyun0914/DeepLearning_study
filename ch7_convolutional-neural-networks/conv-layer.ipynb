{
 "cells": [
  {
   "attachments": {},
   "cell_type": "markdown",
   "id": "fa1772b4",
   "metadata": {
    "origin_pos": 1
   },
   "source": [
    "# Convolutions for Images\n",
    ":label:`sec_conv_layer`\n",
    "\n",
    "## Section Summary\n",
    "This section is about the implementation of convolutional neural networks (CNNs) and how they can be used in practice for image data. It starts with a description of how the cross-correlation operation works in a 2D convolutional layer, including an example calculation of an output tensor. It then discusses the implementation of a convolutional layer, which cross-correlates the input and kernel and adds a scalar bias to produce an output. Finally, it shows how to implement a two-dimensional convolutional layer based on the corr2d function.\n",
    "\n",
    "\n",
    "\n",
    "\n",
    "\n"
   ]
  },
  {
   "cell_type": "code",
   "execution_count": 1,
   "id": "f5aaa457",
   "metadata": {
    "execution": {
     "iopub.execute_input": "2023-02-10T04:39:59.346752Z",
     "iopub.status.busy": "2023-02-10T04:39:59.346398Z",
     "iopub.status.idle": "2023-02-10T04:40:02.344441Z",
     "shell.execute_reply": "2023-02-10T04:40:02.342275Z"
    },
    "origin_pos": 3,
    "tab": [
     "pytorch"
    ]
   },
   "outputs": [],
   "source": [
    "import torch\n",
    "from torch import nn\n",
    "from d2l import torch as d2l"
   ]
  },
  {
   "attachments": {},
   "cell_type": "markdown",
   "id": "477767bb",
   "metadata": {
    "origin_pos": 6
   },
   "source": [
    "## The Cross-Correlation Operation\n",
    "\n"
   ]
  },
  {
   "cell_type": "code",
   "execution_count": 2,
   "id": "a4d6d9c8",
   "metadata": {
    "execution": {
     "iopub.execute_input": "2023-02-10T04:40:02.351695Z",
     "iopub.status.busy": "2023-02-10T04:40:02.350527Z",
     "iopub.status.idle": "2023-02-10T04:40:02.361592Z",
     "shell.execute_reply": "2023-02-10T04:40:02.360746Z"
    },
    "origin_pos": 8,
    "tab": [
     "pytorch"
    ]
   },
   "outputs": [],
   "source": [
    "def corr2d(X, K):  #@save\n",
    "    \"\"\"Compute 2D cross-correlation.\"\"\"\n",
    "    h, w = K.shape\n",
    "    Y = torch.zeros((X.shape[0] - h + 1, X.shape[1] - w + 1))\n",
    "    for i in range(Y.shape[0]):\n",
    "        for j in range(Y.shape[1]):\n",
    "            Y[i, j] = (X[i:i + h, j:j + w] * K).sum()\n",
    "    return Y"
   ]
  },
  {
   "cell_type": "code",
   "execution_count": 3,
   "id": "d316d185",
   "metadata": {
    "execution": {
     "iopub.execute_input": "2023-02-10T04:40:02.365688Z",
     "iopub.status.busy": "2023-02-10T04:40:02.365146Z",
     "iopub.status.idle": "2023-02-10T04:40:02.405139Z",
     "shell.execute_reply": "2023-02-10T04:40:02.404206Z"
    },
    "origin_pos": 12,
    "tab": [
     "pytorch"
    ]
   },
   "outputs": [
    {
     "data": {
      "text/plain": [
       "tensor([[19., 25.],\n",
       "        [37., 43.]])"
      ]
     },
     "execution_count": 3,
     "metadata": {},
     "output_type": "execute_result"
    }
   ],
   "source": [
    "X = torch.tensor([[0.0, 1.0, 2.0], [3.0, 4.0, 5.0], [6.0, 7.0, 8.0]])\n",
    "K = torch.tensor([[0.0, 1.0], [2.0, 3.0]])\n",
    "corr2d(X, K)"
   ]
  },
  {
   "attachments": {},
   "cell_type": "markdown",
   "id": "833cc235",
   "metadata": {
    "origin_pos": 13
   },
   "source": [
    "## Convolutional Layers\n",
    "\n"
   ]
  },
  {
   "cell_type": "code",
   "execution_count": 4,
   "id": "fab56bdb",
   "metadata": {
    "execution": {
     "iopub.execute_input": "2023-02-10T04:40:02.409540Z",
     "iopub.status.busy": "2023-02-10T04:40:02.408874Z",
     "iopub.status.idle": "2023-02-10T04:40:02.420242Z",
     "shell.execute_reply": "2023-02-10T04:40:02.414936Z"
    },
    "origin_pos": 15,
    "tab": [
     "pytorch"
    ]
   },
   "outputs": [],
   "source": [
    "class Conv2D(nn.Module):\n",
    "    def __init__(self, kernel_size):\n",
    "        super().__init__()\n",
    "        self.weight = nn.Parameter(torch.rand(kernel_size))\n",
    "        self.bias = nn.Parameter(torch.zeros(1))\n",
    "\n",
    "    def forward(self, x):\n",
    "        return corr2d(x, self.weight) + self.bias"
   ]
  },
  {
   "attachments": {},
   "cell_type": "markdown",
   "id": "c1ab526d",
   "metadata": {
    "origin_pos": 18
   },
   "source": [
    "\n",
    "\n",
    "## Object Edge Detection in Images\n",
    "\n"
   ]
  },
  {
   "cell_type": "code",
   "execution_count": 5,
   "id": "546eda71",
   "metadata": {
    "execution": {
     "iopub.execute_input": "2023-02-10T04:40:02.426159Z",
     "iopub.status.busy": "2023-02-10T04:40:02.423768Z",
     "iopub.status.idle": "2023-02-10T04:40:02.437734Z",
     "shell.execute_reply": "2023-02-10T04:40:02.436858Z"
    },
    "origin_pos": 19,
    "tab": [
     "pytorch"
    ]
   },
   "outputs": [
    {
     "data": {
      "text/plain": [
       "tensor([[1., 1., 0., 0., 0., 0., 1., 1.],\n",
       "        [1., 1., 0., 0., 0., 0., 1., 1.],\n",
       "        [1., 1., 0., 0., 0., 0., 1., 1.],\n",
       "        [1., 1., 0., 0., 0., 0., 1., 1.],\n",
       "        [1., 1., 0., 0., 0., 0., 1., 1.],\n",
       "        [1., 1., 0., 0., 0., 0., 1., 1.]])"
      ]
     },
     "execution_count": 5,
     "metadata": {},
     "output_type": "execute_result"
    }
   ],
   "source": [
    "X = torch.ones((6, 8))\n",
    "X[:, 2:6] = 0\n",
    "X"
   ]
  },
  {
   "cell_type": "code",
   "execution_count": 6,
   "id": "177725ba",
   "metadata": {
    "execution": {
     "iopub.execute_input": "2023-02-10T04:40:02.447132Z",
     "iopub.status.busy": "2023-02-10T04:40:02.446742Z",
     "iopub.status.idle": "2023-02-10T04:40:02.457770Z",
     "shell.execute_reply": "2023-02-10T04:40:02.451869Z"
    },
    "origin_pos": 23,
    "tab": [
     "pytorch"
    ]
   },
   "outputs": [],
   "source": [
    "K = torch.tensor([[1.0, -1.0]])"
   ]
  },
  {
   "cell_type": "code",
   "execution_count": 7,
   "id": "6d6b73ec",
   "metadata": {
    "execution": {
     "iopub.execute_input": "2023-02-10T04:40:02.463506Z",
     "iopub.status.busy": "2023-02-10T04:40:02.462830Z",
     "iopub.status.idle": "2023-02-10T04:40:02.477488Z",
     "shell.execute_reply": "2023-02-10T04:40:02.476629Z"
    },
    "origin_pos": 25,
    "tab": [
     "pytorch"
    ]
   },
   "outputs": [
    {
     "data": {
      "text/plain": [
       "tensor([[ 0.,  1.,  0.,  0.,  0., -1.,  0.],\n",
       "        [ 0.,  1.,  0.,  0.,  0., -1.,  0.],\n",
       "        [ 0.,  1.,  0.,  0.,  0., -1.,  0.],\n",
       "        [ 0.,  1.,  0.,  0.,  0., -1.,  0.],\n",
       "        [ 0.,  1.,  0.,  0.,  0., -1.,  0.],\n",
       "        [ 0.,  1.,  0.,  0.,  0., -1.,  0.]])"
      ]
     },
     "execution_count": 7,
     "metadata": {},
     "output_type": "execute_result"
    }
   ],
   "source": [
    "Y = corr2d(X, K)\n",
    "Y"
   ]
  },
  {
   "cell_type": "code",
   "execution_count": 8,
   "id": "8afd90c9",
   "metadata": {
    "execution": {
     "iopub.execute_input": "2023-02-10T04:40:02.482449Z",
     "iopub.status.busy": "2023-02-10T04:40:02.481991Z",
     "iopub.status.idle": "2023-02-10T04:40:02.495424Z",
     "shell.execute_reply": "2023-02-10T04:40:02.494589Z"
    },
    "origin_pos": 27,
    "tab": [
     "pytorch"
    ]
   },
   "outputs": [
    {
     "data": {
      "text/plain": [
       "tensor([[0., 0., 0., 0., 0.],\n",
       "        [0., 0., 0., 0., 0.],\n",
       "        [0., 0., 0., 0., 0.],\n",
       "        [0., 0., 0., 0., 0.],\n",
       "        [0., 0., 0., 0., 0.],\n",
       "        [0., 0., 0., 0., 0.],\n",
       "        [0., 0., 0., 0., 0.],\n",
       "        [0., 0., 0., 0., 0.]])"
      ]
     },
     "execution_count": 8,
     "metadata": {},
     "output_type": "execute_result"
    }
   ],
   "source": [
    "corr2d(X.t(), K)"
   ]
  },
  {
   "attachments": {},
   "cell_type": "markdown",
   "id": "f55ecc59",
   "metadata": {
    "origin_pos": 28
   },
   "source": [
    "## Learning a Kernel\n"
   ]
  },
  {
   "cell_type": "code",
   "execution_count": 9,
   "id": "249fe371",
   "metadata": {
    "execution": {
     "iopub.execute_input": "2023-02-10T04:40:02.505907Z",
     "iopub.status.busy": "2023-02-10T04:40:02.500933Z",
     "iopub.status.idle": "2023-02-10T04:40:02.800650Z",
     "shell.execute_reply": "2023-02-10T04:40:02.799768Z"
    },
    "origin_pos": 30,
    "tab": [
     "pytorch"
    ]
   },
   "outputs": [
    {
     "name": "stdout",
     "output_type": "stream",
     "text": [
      "epoch 2, loss 5.968\n",
      "epoch 4, loss 1.465\n",
      "epoch 6, loss 0.436\n",
      "epoch 8, loss 0.151\n",
      "epoch 10, loss 0.057\n"
     ]
    },
    {
     "name": "stderr",
     "output_type": "stream",
     "text": [
      "/Users/sangyun/miniconda3/envs/torch-gpu/lib/python3.8/site-packages/torch/nn/modules/lazy.py:180: UserWarning: Lazy modules are a new feature under heavy development so changes to the API or functionality can happen at any moment.\n",
      "  warnings.warn('Lazy modules are a new feature under heavy development '\n"
     ]
    }
   ],
   "source": [
    "# Construct a two-dimensional convolutional layer with 1 output channel and a\n",
    "# kernel of shape (1, 2). For the sake of simplicity, we ignore the bias here\n",
    "conv2d = nn.LazyConv2d(1, kernel_size=(1, 2), bias=False)\n",
    "\n",
    "# The two-dimensional convolutional layer uses four-dimensional input and\n",
    "# output in the format of (example, channel, height, width), where the batch\n",
    "# size (number of examples in the batch) and the number of channels are both 1\n",
    "X = X.reshape((1, 1, 6, 8))\n",
    "Y = Y.reshape((1, 1, 6, 7))\n",
    "lr = 3e-2  # Learning rate\n",
    "\n",
    "for i in range(10):\n",
    "    Y_hat = conv2d(X)\n",
    "    l = (Y_hat - Y) ** 2\n",
    "    conv2d.zero_grad()\n",
    "    l.sum().backward()\n",
    "    # Update the kernel\n",
    "    conv2d.weight.data[:] -= lr * conv2d.weight.grad\n",
    "    if (i + 1) % 2 == 0:\n",
    "        print(f'epoch {i + 1}, loss {l.sum():.3f}')"
   ]
  },
  {
   "attachments": {},
   "cell_type": "markdown",
   "id": "0d99c4bf",
   "metadata": {
    "origin_pos": 33
   },
   "source": [
    "Note that the error has dropped to a small value after 10 iterations. Now we will [**take a look at the kernel tensor we learned.**]\n"
   ]
  },
  {
   "cell_type": "code",
   "execution_count": 10,
   "id": "3bfe0d50",
   "metadata": {
    "execution": {
     "iopub.execute_input": "2023-02-10T04:40:02.805730Z",
     "iopub.status.busy": "2023-02-10T04:40:02.804296Z",
     "iopub.status.idle": "2023-02-10T04:40:02.815529Z",
     "shell.execute_reply": "2023-02-10T04:40:02.814723Z"
    },
    "origin_pos": 35,
    "tab": [
     "pytorch"
    ]
   },
   "outputs": [
    {
     "data": {
      "text/plain": [
       "tensor([[ 0.9655, -1.0135]])"
      ]
     },
     "execution_count": 10,
     "metadata": {},
     "output_type": "execute_result"
    }
   ],
   "source": [
    "conv2d.weight.data.reshape((1, 2))"
   ]
  }
 ],
 "metadata": {
  "kernelspec": {
   "display_name": "torch-gpu",
   "language": "python",
   "name": "python3"
  },
  "language_info": {
   "codemirror_mode": {
    "name": "ipython",
    "version": 3
   },
   "file_extension": ".py",
   "mimetype": "text/x-python",
   "name": "python",
   "nbconvert_exporter": "python",
   "pygments_lexer": "ipython3",
   "version": "3.8.16"
  }
 },
 "nbformat": 4,
 "nbformat_minor": 5
}
